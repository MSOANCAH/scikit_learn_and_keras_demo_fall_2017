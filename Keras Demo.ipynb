{
 "cells": [
  {
   "cell_type": "markdown",
   "metadata": {},
   "source": [
    "# What is deep learning & neural networks?\n",
    "\n",
    "* We'll talk about it in class soon!\n",
    "* For now, let's just say it's a non-linear classifier, like a decision tree, that in practice happens to be good for classifying certain classes of data, including text and images.\n",
    "* Perceptron is a like a really simple version of a neural net.\n",
    "\n",
    "\n",
    "# What is Keras & what is it used for?\n",
    "\n",
    "* What is keras\n",
    "    * Tool for deep learning.  It's a layer on top of tensorflow and theanno\n",
    "    * Easy to do simple networks more involved to do complicated things\n",
    "    * Makes common things very simple, if you need to do more non-standard fancy stuff you probably need to use tensorflow\n",
    "    \n",
    "* Tons of examples:\n",
    "https://github.com/fchollet/keras/tree/master/examples\n",
    "    \n",
    "\n",
    "# Perceptron in Keras\n",
    "\n",
    "Adapted from https://github.com/fchollet/keras/blob/master/examples/mnist_mlp.py\n",
    "\n",
    "Actually we're training 10 perceptrons! Aside on what this is, again more about this in class.\n",
    "\n",
    "We'll be using the \"mnist\" dataset\n",
    "<img src=\"mnist.png\" width=\"300\">\n",
    "\n",
    "Note: use Shift+Enter to run the codeblocks"
   ]
  },
  {
   "cell_type": "code",
   "execution_count": 13,
   "metadata": {
    "collapsed": false
   },
   "outputs": [],
   "source": [
    "import keras\n",
    "import numpy as np\n",
    "from matplotlib import pyplot as plt\n",
    "from keras.datasets import mnist\n",
    "from keras.models import Sequential\n",
    "from keras.layers import Dense\n",
    "from keras.optimizers import SGD\n",
    "%matplotlib inline\n"
   ]
  },
  {
   "cell_type": "markdown",
   "metadata": {},
   "source": [
    "### Split our data into a train & test set\n",
    "jkljasdf"
   ]
  },
  {
   "cell_type": "code",
   "execution_count": 14,
   "metadata": {
    "collapsed": false,
    "scrolled": true
   },
   "outputs": [
    {
     "name": "stdout",
     "output_type": "stream",
     "text": [
      "(60000, 'train samples')\n",
      "(10000, 'test samples')\n"
     ]
    }
   ],
   "source": [
    "# the data, shuffled and split between train and test sets\n",
    "(x_train, y_train), (x_test, y_test) = mnist.load_data()\n",
    "\n",
    "x_train = x_train.reshape(60000, 784)\n",
    "x_test  = x_test.reshape(10000, 784)\n",
    "x_train = x_train.astype('float32')\n",
    "x_test  = x_test.astype('float32')\n",
    "x_train /= 255\n",
    "x_test  /= 255\n",
    "print(x_train.shape[0], 'train samples')\n",
    "print(x_test.shape[0],  'test samples')\n"
   ]
  },
  {
   "cell_type": "markdown",
   "metadata": {},
   "source": [
    "### Check out what our data looks like"
   ]
  },
  {
   "cell_type": "code",
   "execution_count": 15,
   "metadata": {
    "collapsed": false
   },
   "outputs": [
    {
     "name": "stdout",
     "output_type": "stream",
     "text": [
      "The shape of each image is(784,)\n"
     ]
    },
    {
     "data": {
      "image/png": "[encoded data removed]",
      "text/plain": [
       "<matplotlib.figure.Figure at 0x12634b250>"
      ]
     },
     "metadata": {},
     "output_type": "display_data"
    }
   ],
   "source": [
    "image = x_train[0]\n",
    "img_rows, img_cols, channels = 28, 28, 1\n",
    "image = np.reshape(image, [img_rows, img_cols])\n",
    "plt.imshow(image, cmap='gray')\n",
    "plt.axis('off')\n",
    "\n",
    "# The shape of each image is a vector with 784 binary values (\"pixels\")\n",
    "image_shape = x_train[0].shape\n",
    "print(\"The shape of each image is\" + str(image_shape))"
   ]
  },
  {
   "cell_type": "markdown",
   "metadata": {},
   "source": [
    "### Great, let's make some labels\n",
    "\n",
    "We're going to convert the data etc\n",
    "Since we're predicting categories we need to put it in this binary matrix form\n"
   ]
  },
  {
   "cell_type": "code",
   "execution_count": 16,
   "metadata": {
    "collapsed": false
   },
   "outputs": [
    {
     "name": "stdout",
     "output_type": "stream",
     "text": [
      "shape of our data before(60000,)\n",
      "the first 3 elements look like:\n",
      "[5 0 4]\n",
      "\n",
      "shape of our data after(60000, 10)\n",
      "the first 3 elements look like:\n",
      "[[ 0.  0.  0.  0.  0.  1.  0.  0.  0.  0.]\n",
      " [ 1.  0.  0.  0.  0.  0.  0.  0.  0.  0.]\n",
      " [ 0.  0.  0.  0.  1.  0.  0.  0.  0.  0.]]\n"
     ]
    }
   ],
   "source": [
    "# classifying 10 labels\n",
    "num_classes = 10\n",
    "\n",
    "\n",
    "print(\"shape of our data before\" + str(y_train.shape))\n",
    "print(\"the first 3 elements look like:\") \n",
    "print(str(y_train[0:3]) + '\\n')\n",
    "\n",
    "\n",
    "# convert class vectors to binary class matrices\n",
    "y_train = keras.utils.to_categorical(y_train, num_classes)\n",
    "y_test  = keras.utils.to_categorical(y_test,  num_classes)\n",
    "\n",
    "print(\"shape of our data after\" + str(y_train.shape))\n",
    "print(\"the first 3 elements look like:\") \n",
    "print(str(y_train[0:3]))"
   ]
  },
  {
   "cell_type": "markdown",
   "metadata": {},
   "source": [
    "### Let's make our model!!\n",
    "\n",
    "Sequential is an abstraction for really simple networks. Simplest way to link layers. Use Sequential if all your \"layers\" are linearly stacked- the alternative is the Keras Functional library.\n"
   ]
  },
  {
   "cell_type": "code",
   "execution_count": 17,
   "metadata": {
    "collapsed": false
   },
   "outputs": [
    {
     "name": "stdout",
     "output_type": "stream",
     "text": [
      "_________________________________________________________________\n",
      "Layer (type)                 Output Shape              Param #   \n",
      "=================================================================\n",
      "dense_1 (Dense)              (None, 10)                7850      \n",
      "=================================================================\n",
      "Total params: 7,850\n",
      "Trainable params: 7,850\n",
      "Non-trainable params: 0\n",
      "_________________________________________________________________\n"
     ]
    }
   ],
   "source": [
    "\n",
    "perceptron_model = Sequential()\n",
    "perceptron_model.add(Dense(num_classes, activation='relu', input_shape=image_shape))\n",
    "\n",
    "perceptron_model.summary()"
   ]
  },
  {
   "cell_type": "markdown",
   "metadata": {},
   "source": [
    "### Summary: what does this tell us?\n",
    "\n",
    "Since we have a lot more data points (60,000) than parameters to train (7850) we're good to go. --> Maybe this is confusing.\n",
    "\n",
    "todo: maybe visualize\n",
    "\n",
    "### Compiling the model\n",
    "\n",
    "Now that we've told the Keras *what the model is*, we now need to tell it *how to learn*.\n",
    "\n",
    "1. What's the loss function?\n",
    "\n",
    "In class we've seen some loss functions like the hinge loss and the SVM loss. Here we're going to use a different loss function called the \"categorical crossentropy\" loss. Cross-entropy is a loss function that works well for learning because it makes learning very fast when your function is \"very wrong\" but slower when it is pretty close to the true function.\n",
    "\n",
    "2. What's the optimizer?\n",
    "\n",
    "We'll use SGD (Stochastic Gradient Descent) which we've already discussed in class.\n",
    "\n",
    "3. Which metric to optimize?\n",
    "\n",
    "We'll use accuracy- which is what we've been using for our algorithms all semester. There are some other options that make sense for other types of datasets. "
   ]
  },
  {
   "cell_type": "code",
   "execution_count": 19,
   "metadata": {
    "collapsed": false
   },
   "outputs": [],
   "source": [
    "perceptron_model.compile(loss='categorical_crossentropy', optimizer=SGD(), metric='accuracy')"
   ]
  },
  {
   "cell_type": "code",
   "execution_count": null,
   "metadata": {
    "collapsed": true
   },
   "outputs": [],
   "source": []
  }
 ],
 "metadata": {
  "kernelspec": {
   "display_name": "Python 2",
   "language": "python",
   "name": "python2"
  },
  "language_info": {
   "codemirror_mode": {
    "name": "ipython",
    "version": 2
   },
   "file_extension": ".py",
   "mimetype": "text/x-python",
   "name": "python",
   "nbconvert_exporter": "python",
   "pygments_lexer": "ipython2",
   "version": "2.7.13"
  }
 },
 "nbformat": 4,
 "nbformat_minor": 2
}
