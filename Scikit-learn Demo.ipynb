{
 "cells": [
  {
   "cell_type": "markdown",
   "metadata": {},
   "source": [
    "# Using Scikit-Learn for Machine Learning"
   ]
  },
  {
   "cell_type": "markdown",
   "metadata": {},
   "source": [
    "Scikit-Learn is a python library for machine learning.\n",
    "\n",
    "Some things you can do with scikit-learn: http://scikit-learn.org/stable/\n",
    "<img src=\"scikit-learn.png\" width=\"800\">\n",
    "\n",
    "This demo is a summarized version of:\n",
    "https://github.com/amueller/scipy-2016-sklearn/blob/master/notebooks/10%20Case%20Study%20-%20Titanic%20Survival.ipynb\n",
    "\n",
    "\n",
    "\n",
    "In this demo we'll see:\n",
    "1. How to load data from different sources.\n",
    "1. How to do apply some data preprocessing using scikit-learn and Pandas.\n",
    "2. How to use scikit-learn for cross-validation\n",
    "2. How to run all the algorithms we've seen in class (decision tree, perceptron, SVM) with scikit-learn\n"
   ]
  },
  {
   "cell_type": "markdown",
   "metadata": {},
   "source": [
    "## Loading in the Data"
   ]
  },
  {
   "cell_type": "markdown",
   "metadata": {},
   "source": [
    "### Pre-Installed Datsets\n",
    "\n",
    "Scikit learn has some pre-installed datasets: http://scikit-learn.org/stable/modules/classes.html#module-sklearn.datasets\n",
    "\n",
    "We're going to check out the \"Iris\" dataset. More information on the Iris dataset is available here: https://archive.ics.uci.edu/ml/datasets/iris"
   ]
  },
  {
   "cell_type": "code",
   "execution_count": 29,
   "metadata": {
    "collapsed": true
   },
   "outputs": [],
   "source": [
    "from sklearn.datasets import load_iris\n",
    "iris = load_iris()"
   ]
  },
  {
   "cell_type": "code",
   "execution_count": 30,
   "metadata": {},
   "outputs": [
    {
     "name": "stdout",
     "output_type": "stream",
     "text": [
      "dict_keys(['feature_names', 'target', 'DESCR', 'target_names', 'data'])\n",
      "Number of samples: 150\n",
      "Number of features: 4\n",
      "Features: ['sepal length (cm)', 'sepal width (cm)', 'petal length (cm)', 'petal width (cm)']\n",
      "[ 5.1  3.5  1.4  0.2]\n"
     ]
    }
   ],
   "source": [
    "print(iris.keys())\n",
    "#You can check out the description of the dataset using the following command\n",
    "#print(iris.DESCR)\n",
    "\n",
    "n_samples, n_features = iris.data.shape\n",
    "print('Number of samples:', n_samples)\n",
    "print('Number of features:', n_features)\n",
    "# the sepal length, sepal width, petal length and petal width of the first sample (first flower)\n",
    "print('Features:', iris.feature_names)\n",
    "print(iris.data[0])"
   ]
  },
  {
   "cell_type": "code",
   "execution_count": 31,
   "metadata": {},
   "outputs": [
    {
     "name": "stdout",
     "output_type": "stream",
     "text": [
      "Shape of the features: (150, 4)\n",
      "Shape of the labels: (150,)\n"
     ]
    }
   ],
   "source": [
    "print(\"Shape of the features:\", iris.data.shape)\n",
    "print(\"Shape of the labels:\", iris.target.shape)"
   ]
  },
  {
   "cell_type": "code",
   "execution_count": 32,
   "metadata": {},
   "outputs": [
    {
     "name": "stdout",
     "output_type": "stream",
     "text": [
      "[0 0 0 0 0 0 0 0 0 0 0 0 0 0 0 0 0 0 0 0 0 0 0 0 0 0 0 0 0 0 0 0 0 0 0 0 0\n",
      " 0 0 0 0 0 0 0 0 0 0 0 0 0 1 1 1 1 1 1 1 1 1 1 1 1 1 1 1 1 1 1 1 1 1 1 1 1\n",
      " 1 1 1 1 1 1 1 1 1 1 1 1 1 1 1 1 1 1 1 1 1 1 1 1 1 1 2 2 2 2 2 2 2 2 2 2 2\n",
      " 2 2 2 2 2 2 2 2 2 2 2 2 2 2 2 2 2 2 2 2 2 2 2 2 2 2 2 2 2 2 2 2 2 2 2 2 2\n",
      " 2 2]\n"
     ]
    }
   ],
   "source": [
    "# all of the labels\n",
    "print(iris.target)"
   ]
  },
  {
   "cell_type": "markdown",
   "metadata": {},
   "source": [
    "Let's create a scatter plot of the data to get an idea of how it looks. For this we'll use python library, Matplotlib."
   ]
  },
  {
   "cell_type": "code",
   "execution_count": 33,
   "metadata": {},
   "outputs": [
    {
     "data": {
      "image/png": "[encoded data removed]",
      "text/plain": [
       "<matplotlib.figure.Figure at 0x150e7e0bb70>"
      ]
     },
     "metadata": {},
     "output_type": "display_data"
    }
   ],
   "source": [
    "%matplotlib inline\n",
    "import matplotlib.pyplot as plt\n",
    "\n",
    "x_index = 3\n",
    "y_index = 0\n",
    "\n",
    "colors = ['blue', 'red', 'green']\n",
    "\n",
    "for label, color in zip(range(len(iris.target_names)), colors):\n",
    "    plt.scatter(iris.data[iris.target==label, x_index], \n",
    "                iris.data[iris.target==label, y_index],\n",
    "                label=iris.target_names[label],\n",
    "                c=color)\n",
    "\n",
    "plt.xlabel(iris.feature_names[x_index])\n",
    "plt.ylabel(iris.feature_names[y_index])\n",
    "plt.legend(loc='upper left')\n",
    "plt.show()"
   ]
  },
  {
   "cell_type": "markdown",
   "metadata": {},
   "source": [
    "### Loading your own dataset\n",
    "There are different places where you can find data sets like Kaggle, https://archive.ics.uci.edu/ml/datasets.html.\n",
    "\n",
    "Here, we'll be using the titanic dataset. The description can be found here: https://www.kaggle.com/c/titanic/data"
   ]
  },
  {
   "cell_type": "code",
   "execution_count": 34,
   "metadata": {},
   "outputs": [
    {
     "name": "stdout",
     "output_type": "stream",
     "text": [
      "Index(['pclass', 'survived', 'name', 'sex', 'age', 'sibsp', 'parch', 'ticket',\n",
      "       'fare', 'cabin', 'embarked', 'boat', 'body', 'home.dest'],\n",
      "      dtype='object')\n"
     ]
    },
    {
     "data": {
      "text/plain": [
       "(1309, 5)"
      ]
     },
     "execution_count": 34,
     "metadata": {},
     "output_type": "execute_result"
    }
   ],
   "source": [
    "import os\n",
    "import pandas as pd\n",
    "\n",
    "#loading the datset from .csv file\n",
    "titanic = pd.read_csv(os.path.join('data', 'titanic.csv'))\n",
    "\n",
    "#print columns\n",
    "print(titanic.columns)\n",
    "\n",
    "#labels are stored in column survived. Fetching labels.\n",
    "labels = titanic.survived.values\n",
    "\n",
    "#fetch the columns that we'll be using for our models\n",
    "data = titanic[['pclass', 'sex', 'sibsp', 'parch', 'embarked']]\n",
    "data.shape\n"
   ]
  },
  {
   "cell_type": "markdown",
   "metadata": {},
   "source": [
    "Let's visualize the survival rate based on the gender..."
   ]
  },
  {
   "cell_type": "code",
   "execution_count": 77,
   "metadata": {},
   "outputs": [
    {
     "name": "stdout",
     "output_type": "stream",
     "text": [
      "0    682\n",
      "1    161\n",
      "Name: survived, dtype: int64 0    127\n",
      "1    339\n",
      "Name: survived, dtype: int64\n"
     ]
    },
    {
     "data": {
      "text/plain": [
       "<matplotlib.legend.Legend at 0x150e9f3af98>"
      ]
     },
     "execution_count": 77,
     "metadata": {},
     "output_type": "execute_result"
    },
    {
     "data": {
      "image/png": "[encoded data removed]",
      "text/plain": [
       "<matplotlib.figure.Figure at 0x150e9e14898>"
      ]
     },
     "metadata": {},
     "output_type": "display_data"
    }
   ],
   "source": [
    "df_male = titanic.survived[titanic.sex == 'male'].value_counts().sort_index()\n",
    "df_female = titanic.survived[titanic.sex == 'female'].value_counts().sort_index()\n",
    "\n",
    "print(df_male, df_female)\n",
    "\n",
    "ax1 = plt.figure()\n",
    "df_male.plot(kind='barh',label='Male', alpha=0.55)\n",
    "df_female.plot(kind='barh', color='#FA2379',label='Female', alpha=0.55)\n",
    "plt.title(\"Who Survived? with respect to Gender, (raw value counts) \"); plt.legend(loc='best')"
   ]
  },
  {
   "cell_type": "markdown",
   "metadata": {},
   "source": [
    "\n",
    "## Scikit-learn with real world data: Preprocessing"
   ]
  },
  {
   "cell_type": "markdown",
   "metadata": {},
   "source": [
    "### Binning\n",
    "Binning is a technique which is used to convert continuous values to discrete values for the ease of classification.\n",
    "\n",
    "If regression is being used, continuous values can be used directly."
   ]
  },
  {
   "cell_type": "code",
   "execution_count": 35,
   "metadata": {},
   "outputs": [
    {
     "name": "stdout",
     "output_type": "stream",
     "text": [
      "age\n",
      "0    29.0000\n",
      "1     0.9167\n",
      "2     2.0000\n",
      "3    30.0000\n",
      "4    25.0000\n",
      "Name: age, dtype: float64\n",
      "\n",
      "fare\n",
      "0    211.3375\n",
      "1    151.5500\n",
      "2    151.5500\n",
      "3    151.5500\n",
      "4    151.5500\n",
      "Name: fare, dtype: float64\n",
      "\n",
      "property | Age | Fare\n",
      "min 0.1667 0.0\n",
      "max 80.0 512.3292\n",
      "median 28.0 14.4542\n",
      "mean 29.8811345124 33.2954792813\n"
     ]
    },
    {
     "data": {
      "text/plain": [
       "(1309, 5)"
      ]
     },
     "execution_count": 35,
     "metadata": {},
     "output_type": "execute_result"
    }
   ],
   "source": [
    "# let's have a look at ages and fares\n",
    "print('age')\n",
    "print(titanic['age'].head(5))\n",
    "print()\n",
    "print('fare')\n",
    "print(titanic['fare'].head(5))\n",
    "print()\n",
    "\n",
    "#lets look at min, max, median and mean for age and fare. This will help us in deciding the bins\n",
    "print('property | Age | Fare')\n",
    "print('min', titanic['age'].min(), titanic['fare'].min())\n",
    "print('max', titanic['age'].max(), titanic['fare'].max())\n",
    "print('median', titanic['age'].median(), titanic['fare'].median())\n",
    "print('mean', titanic['age'].mean(), titanic['fare'].mean())\n",
    "data.shape"
   ]
  },
  {
   "cell_type": "code",
   "execution_count": 36,
   "metadata": {},
   "outputs": [
    {
     "data": {
      "text/html": [
       "<div>\n",
       "<table border=\"1\" class=\"dataframe\">\n",
       "  <thead>\n",
       "    <tr style=\"text-align: right;\">\n",
       "      <th></th>\n",
       "      <th>pclass</th>\n",
       "      <th>sex</th>\n",
       "      <th>sibsp</th>\n",
       "      <th>parch</th>\n",
       "      <th>embarked</th>\n",
       "      <th>age</th>\n",
       "      <th>fare</th>\n",
       "    </tr>\n",
       "  </thead>\n",
       "  <tbody>\n",
       "    <tr>\n",
       "      <th>0</th>\n",
       "      <td>1</td>\n",
       "      <td>female</td>\n",
       "      <td>0</td>\n",
       "      <td>0</td>\n",
       "      <td>S</td>\n",
       "      <td>adult</td>\n",
       "      <td>high</td>\n",
       "    </tr>\n",
       "    <tr>\n",
       "      <th>1</th>\n",
       "      <td>1</td>\n",
       "      <td>male</td>\n",
       "      <td>1</td>\n",
       "      <td>2</td>\n",
       "      <td>S</td>\n",
       "      <td>young</td>\n",
       "      <td>high</td>\n",
       "    </tr>\n",
       "    <tr>\n",
       "      <th>2</th>\n",
       "      <td>1</td>\n",
       "      <td>female</td>\n",
       "      <td>1</td>\n",
       "      <td>2</td>\n",
       "      <td>S</td>\n",
       "      <td>young</td>\n",
       "      <td>high</td>\n",
       "    </tr>\n",
       "    <tr>\n",
       "      <th>3</th>\n",
       "      <td>1</td>\n",
       "      <td>male</td>\n",
       "      <td>1</td>\n",
       "      <td>2</td>\n",
       "      <td>S</td>\n",
       "      <td>adult</td>\n",
       "      <td>high</td>\n",
       "    </tr>\n",
       "    <tr>\n",
       "      <th>4</th>\n",
       "      <td>1</td>\n",
       "      <td>female</td>\n",
       "      <td>1</td>\n",
       "      <td>2</td>\n",
       "      <td>S</td>\n",
       "      <td>young</td>\n",
       "      <td>high</td>\n",
       "    </tr>\n",
       "  </tbody>\n",
       "</table>\n",
       "</div>"
      ],
      "text/plain": [
       "   pclass     sex  sibsp  parch embarked    age  fare\n",
       "0       1  female      0      0        S  adult  high\n",
       "1       1    male      1      2        S  young  high\n",
       "2       1  female      1      2        S  young  high\n",
       "3       1    male      1      2        S  adult  high\n",
       "4       1  female      1      2        S  young  high"
      ]
     },
     "execution_count": 36,
     "metadata": {},
     "output_type": "execute_result"
    }
   ],
   "source": [
    "#create bins for age and fare\n",
    "bins_age = [0, 25, 60,  100]\n",
    "bins_fare = [0, 25, 100, 1000]\n",
    "\n",
    "age_groups = ['young', 'adult', 'senior']\n",
    "fare_groups = ['low', 'medium', 'high']\n",
    "\n",
    "data['age'] = pd.cut(titanic['age'], bins_age, labels=age_groups)\n",
    "data['fare'] = pd.cut(titanic['fare'], bins_fare, labels=fare_groups)\n",
    "\n",
    "#remove original columns\n",
    "# del data['age']\n",
    "# del data['fare']\n",
    "\n",
    "data.head(5)\n"
   ]
  },
  {
   "cell_type": "markdown",
   "metadata": {},
   "source": [
    "### Converting Categorical values to Numerical values\n",
    "\n",
    "Here we will be converting categorical values like Male/Female to numerical values like 1/2 for easier processing.\n",
    "\n",
    "Here, we'll be using 2 different techniques:\n",
    "- LabelEncoder: This is used when none of the values for this column are missing.\n",
    "- factorize: This is used when there are missing values. The missing value is assigned the value of -1."
   ]
  },
  {
   "cell_type": "code",
   "execution_count": 37,
   "metadata": {},
   "outputs": [
    {
     "name": "stdout",
     "output_type": "stream",
     "text": [
      "   pclass     sex  sibsp  parch embarked    age  fare\n",
      "0       1  female      0      0        S  adult  high\n",
      "1       1    male      1      2        S  young  high\n",
      "2       1  female      1      2        S  young  high\n",
      "3       1    male      1      2        S  adult  high\n",
      "4       1  female      1      2        S  young  high\n"
     ]
    },
    {
     "data": {
      "text/html": [
       "<div>\n",
       "<table border=\"1\" class=\"dataframe\">\n",
       "  <thead>\n",
       "    <tr style=\"text-align: right;\">\n",
       "      <th></th>\n",
       "      <th>pclass</th>\n",
       "      <th>sex</th>\n",
       "      <th>sibsp</th>\n",
       "      <th>parch</th>\n",
       "      <th>embarked</th>\n",
       "      <th>age</th>\n",
       "      <th>fare</th>\n",
       "    </tr>\n",
       "  </thead>\n",
       "  <tbody>\n",
       "    <tr>\n",
       "      <th>0</th>\n",
       "      <td>1</td>\n",
       "      <td>0</td>\n",
       "      <td>0</td>\n",
       "      <td>0</td>\n",
       "      <td>0</td>\n",
       "      <td>0</td>\n",
       "      <td>0</td>\n",
       "    </tr>\n",
       "    <tr>\n",
       "      <th>1</th>\n",
       "      <td>1</td>\n",
       "      <td>1</td>\n",
       "      <td>1</td>\n",
       "      <td>2</td>\n",
       "      <td>0</td>\n",
       "      <td>1</td>\n",
       "      <td>0</td>\n",
       "    </tr>\n",
       "    <tr>\n",
       "      <th>2</th>\n",
       "      <td>1</td>\n",
       "      <td>0</td>\n",
       "      <td>1</td>\n",
       "      <td>2</td>\n",
       "      <td>0</td>\n",
       "      <td>1</td>\n",
       "      <td>0</td>\n",
       "    </tr>\n",
       "    <tr>\n",
       "      <th>3</th>\n",
       "      <td>1</td>\n",
       "      <td>1</td>\n",
       "      <td>1</td>\n",
       "      <td>2</td>\n",
       "      <td>0</td>\n",
       "      <td>0</td>\n",
       "      <td>0</td>\n",
       "    </tr>\n",
       "    <tr>\n",
       "      <th>4</th>\n",
       "      <td>1</td>\n",
       "      <td>0</td>\n",
       "      <td>1</td>\n",
       "      <td>2</td>\n",
       "      <td>0</td>\n",
       "      <td>1</td>\n",
       "      <td>0</td>\n",
       "    </tr>\n",
       "  </tbody>\n",
       "</table>\n",
       "</div>"
      ],
      "text/plain": [
       "   pclass  sex  sibsp  parch  embarked  age  fare\n",
       "0       1    0      0      0         0    0     0\n",
       "1       1    1      1      2         0    1     0\n",
       "2       1    0      1      2         0    1     0\n",
       "3       1    1      1      2         0    0     0\n",
       "4       1    0      1      2         0    1     0"
      ]
     },
     "execution_count": 37,
     "metadata": {},
     "output_type": "execute_result"
    }
   ],
   "source": [
    "from sklearn.preprocessing import LabelEncoder\n",
    "import warnings; warnings.simplefilter('ignore')\n",
    "\n",
    "#let's check the values before we change categorical values to numbers.\n",
    "print(data.head(5))\n",
    "\n",
    "le = LabelEncoder()\n",
    "data['sex'] = le.fit_transform(data['sex'])\n",
    "\n",
    "#select only those columns that are categorical\n",
    "for column in data.select_dtypes(include=['object', 'category']).columns:\n",
    "    data[column] = data[column].factorize()[0]\n",
    "\n",
    "#after processing\n",
    "data.head(5)"
   ]
  },
  {
   "cell_type": "markdown",
   "metadata": {},
   "source": [
    "### Handling missing values\n",
    "\n",
    "There are different ways to handle missing values. Here we're using fillna() from pandas since we had categorical values. You could also use Imputer from scikit-learn to fill with mean, median etc.\n",
    "\n",
    "In either case, we need to replace -1 with np.nan. This is needed because factorize() from above encodes missing values as -1.\n",
    "\n",
    "Not that, imputer returns an ndarray, whereas fillna gives us a dataframe."
   ]
  },
  {
   "cell_type": "code",
   "execution_count": 38,
   "metadata": {},
   "outputs": [
    {
     "data": {
      "text/html": [
       "<div>\n",
       "<table border=\"1\" class=\"dataframe\">\n",
       "  <thead>\n",
       "    <tr style=\"text-align: right;\">\n",
       "      <th></th>\n",
       "      <th>pclass</th>\n",
       "      <th>sex</th>\n",
       "      <th>sibsp</th>\n",
       "      <th>parch</th>\n",
       "      <th>embarked</th>\n",
       "      <th>age</th>\n",
       "      <th>fare</th>\n",
       "    </tr>\n",
       "  </thead>\n",
       "  <tbody>\n",
       "    <tr>\n",
       "      <th>0</th>\n",
       "      <td>1</td>\n",
       "      <td>0</td>\n",
       "      <td>0</td>\n",
       "      <td>0</td>\n",
       "      <td>0.0</td>\n",
       "      <td>0.0</td>\n",
       "      <td>0.0</td>\n",
       "    </tr>\n",
       "    <tr>\n",
       "      <th>1</th>\n",
       "      <td>1</td>\n",
       "      <td>1</td>\n",
       "      <td>1</td>\n",
       "      <td>2</td>\n",
       "      <td>0.0</td>\n",
       "      <td>1.0</td>\n",
       "      <td>0.0</td>\n",
       "    </tr>\n",
       "    <tr>\n",
       "      <th>2</th>\n",
       "      <td>1</td>\n",
       "      <td>0</td>\n",
       "      <td>1</td>\n",
       "      <td>2</td>\n",
       "      <td>0.0</td>\n",
       "      <td>1.0</td>\n",
       "      <td>0.0</td>\n",
       "    </tr>\n",
       "    <tr>\n",
       "      <th>3</th>\n",
       "      <td>1</td>\n",
       "      <td>1</td>\n",
       "      <td>1</td>\n",
       "      <td>2</td>\n",
       "      <td>0.0</td>\n",
       "      <td>0.0</td>\n",
       "      <td>0.0</td>\n",
       "    </tr>\n",
       "    <tr>\n",
       "      <th>4</th>\n",
       "      <td>1</td>\n",
       "      <td>0</td>\n",
       "      <td>1</td>\n",
       "      <td>2</td>\n",
       "      <td>0.0</td>\n",
       "      <td>1.0</td>\n",
       "      <td>0.0</td>\n",
       "    </tr>\n",
       "  </tbody>\n",
       "</table>\n",
       "</div>"
      ],
      "text/plain": [
       "   pclass  sex  sibsp  parch  embarked  age  fare\n",
       "0       1    0      0      0       0.0  0.0   0.0\n",
       "1       1    1      1      2       0.0  1.0   0.0\n",
       "2       1    0      1      2       0.0  1.0   0.0\n",
       "3       1    1      1      2       0.0  0.0   0.0\n",
       "4       1    0      1      2       0.0  1.0   0.0"
      ]
     },
     "execution_count": 38,
     "metadata": {},
     "output_type": "execute_result"
    }
   ],
   "source": [
    "from sklearn.model_selection import train_test_split\n",
    "from sklearn.preprocessing import Imputer\n",
    "import numpy as np \n",
    "\n",
    "data = data.replace('-1', np.nan)\n",
    "\n",
    "#try this\n",
    "# imp = Imputer(strategy=\"median\") # can supply different strategies\n",
    "# imp.fit(data)\n",
    "# data = imp.transform(data)\n",
    "\n",
    "data = data.fillna(data.median()) # can try with sum, mean etc.\n",
    "data.head(5)"
   ]
  },
  {
   "cell_type": "markdown",
   "metadata": {},
   "source": [
    "### Converting Categorical Values to Boolean Values (Binary Values)\n",
    "We will be using one-hot-encoding to convert categorical features to binary features.\n",
    "\n",
    "####What is one-hot-encoding?\n",
    "\n",
    "When a column has categorical values, it is hard for the machine learning algorithm to train  upon. To make it more suitable for the ML algorithms, we convert each category for that column to a boolean column. Only one of the columns can take a value of one for a single sample. Hence, it is called as one hot encoding. \n",
    "\n",
    "(eg) Suppose you have ‘flower’ feature which can take values ‘daffodil’, ‘lily’, and ‘rose’. One hot encoding converts ‘flower’ feature to three features, ‘is_daffodil’, ‘is_lily’, and ‘is_rose’ which all are binary.\n",
    "\n",
    "We will be using pandas' get_dummies() function which is equivalent to scikit-learn OneHotEncoder.\n",
    "\n",
    "http://scikit-learn.org/stable/modules/generated/sklearn.preprocessing.OneHotEncoder.html#sklearn.preprocessing.OneHotEncoder\n",
    "\n",
    "Refer: https://machinelearningmastery.com/why-one-hot-encode-data-in-machine-learning/"
   ]
  },
  {
   "cell_type": "code",
   "execution_count": 39,
   "metadata": {},
   "outputs": [
    {
     "name": "stdout",
     "output_type": "stream",
     "text": [
      "columns: 29\n",
      "rows: 1309\n"
     ]
    }
   ],
   "source": [
    "#to convert all categorical columns to boolean columns\n",
    "# data = pd.get_dummies(data)\n",
    "\n",
    "from sklearn.preprocessing import OneHotEncoder\n",
    "\n",
    "enc = OneHotEncoder()\n",
    "enc_data = enc.fit_transform(data).toarray()\n",
    "\n",
    "#you can also select the columns to convert. I don't know why you would do that though!\n",
    "# data = pd.get_dummies(data, columns=[ 'sex', 'embarked', 'age', 'fare'])\n",
    "print('columns:', enc_data.shape[1])\n",
    "print('rows:', enc_data.shape[0])"
   ]
  },
  {
   "cell_type": "markdown",
   "metadata": {},
   "source": [
    "### Scaling features "
   ]
  },
  {
   "cell_type": "code",
   "execution_count": 40,
   "metadata": {},
   "outputs": [
    {
     "name": "stdout",
     "output_type": "stream",
     "text": [
      "The mean of the original age data is 0.38884644767\n",
      "The std  of the original age data is 0.536922051228\n",
      "\n",
      "The mean of the transformed age data is 2.71406698151e-17\n",
      "The std  of the transformed age data is 1.0\n"
     ]
    }
   ],
   "source": [
    "from sklearn import preprocessing\n",
    "\n",
    "processed_age_data = preprocessing.scale(data['age'])\n",
    "\n",
    "print(\"The mean of the original age data is\", data['age'].mean(axis=0))\n",
    "print(\"The std  of the original age data is\", data['age'].std(axis=0))\n",
    "print()\n",
    "\n",
    "print(\"The mean of the transformed age data is\", processed_age_data.mean(axis=0))\n",
    "print(\"The std  of the transformed age data is\", processed_age_data.std(axis=0))\n"
   ]
  },
  {
   "cell_type": "markdown",
   "metadata": {},
   "source": [
    "# Creating a Test-Train Split\n",
    "Here we'll create train and test splits to train and test our algorithm.\n",
    "\n",
    "We'll keep two sets: 1 without OneHotEncoding and one with and compare the results of the two for each algorithm."
   ]
  },
  {
   "cell_type": "code",
   "execution_count": 41,
   "metadata": {},
   "outputs": [],
   "source": [
    "#splits without encoded values. We will call this split 'A'\n",
    "train_data, test_data, train_labels, test_labels = train_test_split(data, labels, random_state=0)\n",
    "\n",
    "#splits with encoded values. We will call this split 'B'\n",
    "enc_train_data, enc_test_data, enc_train_labels, enc_test_labels = train_test_split(enc_data, labels, random_state=0)"
   ]
  },
  {
   "cell_type": "markdown",
   "metadata": {},
   "source": [
    "## Algorithms we know from class"
   ]
  },
  {
   "cell_type": "markdown",
   "metadata": {},
   "source": [
    "### Chance\n",
    "\n",
    "Here we'll see a classifier that predicts labels at random."
   ]
  },
  {
   "cell_type": "code",
   "execution_count": 42,
   "metadata": {},
   "outputs": [
    {
     "name": "stdout",
     "output_type": "stream",
     "text": [
      "Prediction accuracy: 0.542682926829\n"
     ]
    }
   ],
   "source": [
    "from sklearn.dummy import DummyClassifier\n",
    "\n",
    "clf = DummyClassifier(\"uniform\")\n",
    "clf.fit(train_data, train_labels)\n",
    "print(\"Prediction accuracy:\", clf.score(test_data, test_labels))"
   ]
  },
  {
   "cell_type": "markdown",
   "metadata": {},
   "source": [
    "As expected, the accuracy from chance is 50%. Let's try a better classifier"
   ]
  },
  {
   "cell_type": "markdown",
   "metadata": {},
   "source": [
    "### Most Common Label Classifier\n",
    "\n",
    "Scikit learn calls this a \"dummy\" classifier. Easy \"baseline\" for learning. Just labels all the instances with the most common/frequent label."
   ]
  },
  {
   "cell_type": "code",
   "execution_count": 43,
   "metadata": {},
   "outputs": [
    {
     "name": "stdout",
     "output_type": "stream",
     "text": [
      "Prediction accuracy: 0.634146341463\n"
     ]
    }
   ],
   "source": [
    "clf = DummyClassifier('most_frequent')\n",
    "clf.fit(train_data, train_labels)\n",
    "print(\"Prediction accuracy:\", clf.score(test_data, test_labels))"
   ]
  },
  {
   "cell_type": "markdown",
   "metadata": {},
   "source": [
    "### SVM\n",
    "\n",
    "More info at: http://scikit-learn.org/stable/modules/generated/sklearn.svm.LinearSVC.html#sklearn.svm.LinearSVC"
   ]
  },
  {
   "cell_type": "code",
   "execution_count": 44,
   "metadata": {},
   "outputs": [
    {
     "name": "stdout",
     "output_type": "stream",
     "text": [
      "[[-0.24091386 -1.01926197 -0.10676417 -0.00748992  0.09276051  0.0326393\n",
      "  -0.06525052]]\n",
      "[ 1.08556847]\n",
      "\n",
      "Prediction accuracy: 0.786585365854\n",
      "\n",
      "[[ 0.11105987 -0.11283395 -0.32846026  0.33539996 -0.66563429  0.54656211\n",
      "   0.48331344  0.41465697  0.16695632 -0.54638545 -0.64570403 -0.74963369\n",
      "   0.31757107  0.53572553  0.42170866  0.32490162 -0.07809115 -0.64545968\n",
      "  -0.60329543 -0.60329496 -0.222609   -0.03532068 -0.07230466  0.01468183\n",
      "   0.13990158 -0.48481775 -0.10131836 -0.0471501  -0.18176588]]\n",
      "[-0.33023434]\n",
      "\n",
      "Prediction accuracy: 0.792682926829\n"
     ]
    }
   ],
   "source": [
    "from sklearn.svm import LinearSVC\n",
    "\n",
    "clf = LinearSVC(random_state=4000)\n",
    "\n",
    "#train and test on split A\n",
    "clf.fit(train_data, train_labels)\n",
    "\n",
    "print(clf.coef_)\n",
    "print(clf.intercept_)\n",
    "print()\n",
    "print(\"Prediction accuracy:\", clf.score(test_data, test_labels))\n",
    "print()\n",
    "\n",
    "#train and test on split B\n",
    "clf.fit(enc_train_data, enc_train_labels)\n",
    "\n",
    "print(clf.coef_)\n",
    "print(clf.intercept_)\n",
    "print()\n",
    "print(\"Prediction accuracy:\", clf.score(enc_test_data, enc_test_labels))"
   ]
  },
  {
   "cell_type": "markdown",
   "metadata": {},
   "source": [
    "## Cross Validating SVM\n",
    "\n",
    "We will be cross validating for parameter C. As you might remember from class, 'C' is the penalty parameter of the error formula.\n",
    "\n",
    "From http://scikit-learn.org/stable/auto_examples/model_selection/plot_grid_search_digits.html#sphx-glr-auto-examples-model-selection-plot-grid-search-digits-py"
   ]
  },
  {
   "cell_type": "code",
   "execution_count": 45,
   "metadata": {},
   "outputs": [
    {
     "name": "stdout",
     "output_type": "stream",
     "text": [
      "# Tuning hyper-parameters for accuracy\n",
      "\n",
      "Best parameters set found on development set:\n",
      "\n",
      "{'C': 0.01}\n",
      "\n",
      "Grid scores on development set:\n",
      "\n",
      "0.679 (+/-0.023) for {'C': 0.001}\n",
      "0.795 (+/-0.028) for {'C': 0.01}\n",
      "0.795 (+/-0.028) for {'C': 0.01}\n",
      "0.792 (+/-0.028) for {'C': 1}\n",
      "0.790 (+/-0.025) for {'C': 10}\n",
      "0.741 (+/-0.093) for {'C': 100}\n",
      "0.661 (+/-0.254) for {'C': 1000}\n",
      "0.680 (+/-0.301) for {'C': 5000}\n",
      "\n",
      "[[-0.18379599 -0.76373116 -0.06978269  0.03984783  0.1292801   0.05283752\n",
      "  -0.00391419]]\n",
      "[ 0.61032088]\n",
      "\n",
      "Prediction accuracy: 0.786585365854\n"
     ]
    }
   ],
   "source": [
    "from sklearn.model_selection import train_test_split\n",
    "from sklearn.model_selection import GridSearchCV\n",
    "from sklearn.metrics import classification_report\n",
    "from sklearn.svm import SVC\n",
    "\n",
    "\n",
    "# Set the parameters by cross-validation\n",
    "tuned_parameters = [{'C': [1e-3, 1e-2, 1e-2, 1, 10, 100, 1000, 5000]}]\n",
    "\n",
    "print(\"# Tuning hyper-parameters for accuracy\")\n",
    "print()\n",
    "\n",
    "clf = GridSearchCV(LinearSVC(), tuned_parameters, cv=5, scoring='accuracy')\n",
    "clf.fit(train_data, train_labels)\n",
    "\n",
    "print(\"Best parameters set found on development set:\")\n",
    "print()\n",
    "print(clf.best_params_)\n",
    "print()\n",
    "print(\"Grid scores on development set:\")\n",
    "print()\n",
    "means = clf.cv_results_['mean_test_score']\n",
    "stds = clf.cv_results_['std_test_score']\n",
    "for mean, std, params in zip(means, stds, clf.cv_results_['params']):\n",
    "    print(\"%0.3f (+/-%0.03f) for %r\" % (mean, std * 2, params))\n",
    "print()\n",
    "\n",
    "#train and test by using best parameters.\n",
    "clf = LinearSVC(random_state=4000, C=clf.best_params_['C'])\n",
    "clf.fit(train_data, train_labels)\n",
    "\n",
    "print(clf.coef_)\n",
    "print(clf.intercept_)\n",
    "print()\n",
    "print(\"Prediction accuracy:\", clf.score(test_data, test_labels))"
   ]
  },
  {
   "cell_type": "markdown",
   "metadata": {},
   "source": [
    "### Perceptron"
   ]
  },
  {
   "cell_type": "code",
   "execution_count": 46,
   "metadata": {},
   "outputs": [
    {
     "name": "stdout",
     "output_type": "stream",
     "text": [
      "[[ -6. -13.  -1.  -1.   2.   0.  -3.]]\n",
      "[ 12.]\n",
      "\n",
      "Prediction accuracy: 0.725609756098\n",
      "[[ 3. -1. -3.  1. -2.  2.  1.  4.  1. -4. -2. -3.  0.  3.  2.  3. -2. -4.\n",
      "  -2. -1. -3.  2.  0. -1.  2. -2.  0.  2. -3.]]\n",
      "[-1.]\n",
      "\n",
      "Prediction accuracy: 0.762195121951\n"
     ]
    }
   ],
   "source": [
    "import warnings\n",
    "warnings.filterwarnings('ignore')\n",
    "\n",
    "from sklearn.linear_model import Perceptron\n",
    "\n",
    "clf = Perceptron(random_state=2000)\n",
    "\n",
    "#train and test on split A\n",
    "clf.fit(train_data, train_labels)\n",
    "\n",
    "print(clf.coef_)\n",
    "print(clf.intercept_)\n",
    "print()\n",
    "print(\"Prediction accuracy:\", clf.score(test_data, test_labels))\n",
    "\n",
    "#train and test on split B\n",
    "clf.fit(enc_train_data, enc_train_labels)\n",
    "\n",
    "print(clf.coef_)\n",
    "print(clf.intercept_)\n",
    "print()\n",
    "print(\"Prediction accuracy:\", clf.score(enc_test_data, enc_test_labels))\n"
   ]
  },
  {
   "cell_type": "markdown",
   "metadata": {},
   "source": [
    "### Decision Tree\n"
   ]
  },
  {
   "cell_type": "code",
   "execution_count": 47,
   "metadata": {},
   "outputs": [],
   "source": [
    "#http://scikit-learn.org/stable/modules/tree.html\n",
    "#for visualization\n",
    "\n",
    "import graphviz \n",
    "from sklearn import tree\n",
    "\n",
    "#for windows, uncomment the following and replace with path of you local Graphviz.38/bin. Include path of bin and not python lib\n",
    "# os.environ[\"PATH\"] += os.pathsep + 'C:/Program Files (x86)/Graphviz2.38/bin/'"
   ]
  },
  {
   "cell_type": "code",
   "execution_count": 48,
   "metadata": {},
   "outputs": [
    {
     "name": "stdout",
     "output_type": "stream",
     "text": [
      "Accuracy 0.795731707317\n",
      "The depth of this tree is 11\n",
      "Accuracy 0.801829268293\n",
      "The depth of this tree is 10\n"
     ]
    },
    {
     "data": {
      "text/plain": [
       "'graphs/dt_gini_enc.pdf'"
      ]
     },
     "execution_count": 48,
     "metadata": {},
     "output_type": "execute_result"
    }
   ],
   "source": [
    "from sklearn.tree import DecisionTreeClassifier\n",
    "\n",
    "clf = DecisionTreeClassifier(criterion='gini')\n",
    "clf.fit(train_data, train_labels)\n",
    "DecisionTreeClassifier()\n",
    "\n",
    "print(\"Accuracy\", clf.score(test_data, test_labels))\n",
    "print(\"The depth of this tree is\", clf.tree_.max_depth)\n",
    "\n",
    "graph = graphviz.Source(tree.export_graphviz(clf, out_file=None)) \n",
    "graph.render('graphs/dt_gini')\n",
    "\n",
    "clf.fit(enc_train_data, enc_train_labels)\n",
    "DecisionTreeClassifier()\n",
    "\n",
    "print(\"Accuracy\", clf.score(enc_test_data, enc_test_labels))\n",
    "print(\"The depth of this tree is\", clf.tree_.max_depth)\n",
    "\n",
    "\n",
    "graph = graphviz.Source(tree.export_graphviz(clf, out_file=None)) \n",
    "graph.render('graphs/dt_gini_enc')"
   ]
  },
  {
   "cell_type": "markdown",
   "metadata": {},
   "source": [
    "We can try using a different criterion to build the tree."
   ]
  },
  {
   "cell_type": "code",
   "execution_count": 49,
   "metadata": {},
   "outputs": [
    {
     "name": "stdout",
     "output_type": "stream",
     "text": [
      "Accuracy 0.795731707317\n",
      "The depth of this tree is 11\n",
      "Accuracy 0.801829268293\n",
      "The depth of this tree is 11\n"
     ]
    },
    {
     "data": {
      "text/plain": [
       "'graphs/dt_entropy_enc.pdf'"
      ]
     },
     "execution_count": 49,
     "metadata": {},
     "output_type": "execute_result"
    }
   ],
   "source": [
    "clf = DecisionTreeClassifier(criterion='entropy')\n",
    "clf.fit(train_data, train_labels)\n",
    "DecisionTreeClassifier()\n",
    "\n",
    "print(\"Accuracy\", clf.score(test_data, test_labels))\n",
    "print(\"The depth of this tree is\", clf.tree_.max_depth)\n",
    "\n",
    "graph = graphviz.Source(tree.export_graphviz(clf, out_file=None)) \n",
    "graph.render('graphs/dt_entropy')\n",
    "\n",
    "clf.fit(enc_train_data, enc_train_labels)\n",
    "DecisionTreeClassifier()\n",
    "\n",
    "print(\"Accuracy\", clf.score(enc_test_data, enc_test_labels))\n",
    "print(\"The depth of this tree is\", clf.tree_.max_depth)\n",
    "\n",
    "\n",
    "graph = graphviz.Source(tree.export_graphviz(clf, out_file=None)) \n",
    "graph.render('graphs/dt_entropy_enc')\n"
   ]
  },
  {
   "cell_type": "markdown",
   "metadata": {},
   "source": [
    "Let's try limiting the depth and visualize our tree...\n",
    "\n",
    "http://scikit-learn.org/stable/modules/tree.html"
   ]
  },
  {
   "cell_type": "code",
   "execution_count": 50,
   "metadata": {},
   "outputs": [
    {
     "name": "stdout",
     "output_type": "stream",
     "text": [
      "Accuracy 0.786585365854\n",
      "The depth of this tree is 2\n"
     ]
    },
    {
     "data": {
      "image/svg+xml": [
       "<?xml version=\"1.0\" encoding=\"UTF-8\" standalone=\"no\"?>\r\n",
       "<!DOCTYPE svg PUBLIC \"-//W3C//DTD SVG 1.1//EN\"\r\n",
       " \"http://www.w3.org/Graphics/SVG/1.1/DTD/svg11.dtd\">\r\n",
       "<!-- Generated by graphviz version 2.38.0 (20140413.2041)\r\n",
       " -->\r\n",
       "<!-- Title: Tree Pages: 1 -->\r\n",
       "<svg width=\"498pt\" height=\"269pt\"\r\n",
       " viewBox=\"0.00 0.00 498.00 269.00\" xmlns=\"http://www.w3.org/2000/svg\" xmlns:xlink=\"http://www.w3.org/1999/xlink\">\r\n",
       "<g id=\"graph0\" class=\"graph\" transform=\"scale(1 1) rotate(0) translate(4 265)\">\r\n",
       "<title>Tree</title>\r\n",
       "<polygon fill=\"white\" stroke=\"none\" points=\"-4,4 -4,-265 494,-265 494,4 -4,4\"/>\r\n",
       "<!-- 0 -->\r\n",
       "<g id=\"node1\" class=\"node\"><title>0</title>\r\n",
       "<polygon fill=\"none\" stroke=\"black\" points=\"303.5,-261 185.5,-261 185.5,-193 303.5,-193 303.5,-261\"/>\r\n",
       "<text text-anchor=\"middle\" x=\"244.5\" y=\"-245.8\" font-family=\"Times New Roman,serif\" font-size=\"14.00\">X[1] &lt;= 0.5</text>\r\n",
       "<text text-anchor=\"middle\" x=\"244.5\" y=\"-230.8\" font-family=\"Times New Roman,serif\" font-size=\"14.00\">gini = 0.4746</text>\r\n",
       "<text text-anchor=\"middle\" x=\"244.5\" y=\"-215.8\" font-family=\"Times New Roman,serif\" font-size=\"14.00\">samples = 981</text>\r\n",
       "<text text-anchor=\"middle\" x=\"244.5\" y=\"-200.8\" font-family=\"Times New Roman,serif\" font-size=\"14.00\">value = [601, 380]</text>\r\n",
       "</g>\r\n",
       "<!-- 1 -->\r\n",
       "<g id=\"node2\" class=\"node\"><title>1</title>\r\n",
       "<polygon fill=\"none\" stroke=\"black\" points=\"234,-157 123,-157 123,-89 234,-89 234,-157\"/>\r\n",
       "<text text-anchor=\"middle\" x=\"178.5\" y=\"-141.8\" font-family=\"Times New Roman,serif\" font-size=\"14.00\">X[0] &lt;= 2.5</text>\r\n",
       "<text text-anchor=\"middle\" x=\"178.5\" y=\"-126.8\" font-family=\"Times New Roman,serif\" font-size=\"14.00\">gini = 0.392</text>\r\n",
       "<text text-anchor=\"middle\" x=\"178.5\" y=\"-111.8\" font-family=\"Times New Roman,serif\" font-size=\"14.00\">samples = 355</text>\r\n",
       "<text text-anchor=\"middle\" x=\"178.5\" y=\"-96.8\" font-family=\"Times New Roman,serif\" font-size=\"14.00\">value = [95, 260]</text>\r\n",
       "</g>\r\n",
       "<!-- 0&#45;&gt;1 -->\r\n",
       "<g id=\"edge1\" class=\"edge\"><title>0&#45;&gt;1</title>\r\n",
       "<path fill=\"none\" stroke=\"black\" d=\"M223.072,-192.884C217.481,-184.243 211.383,-174.819 205.542,-165.793\"/>\r\n",
       "<polygon fill=\"black\" stroke=\"black\" points=\"208.418,-163.794 200.047,-157.299 202.541,-167.596 208.418,-163.794\"/>\r\n",
       "<text text-anchor=\"middle\" x=\"194.808\" y=\"-178.044\" font-family=\"Times New Roman,serif\" font-size=\"14.00\">True</text>\r\n",
       "</g>\r\n",
       "<!-- 4 -->\r\n",
       "<g id=\"node5\" class=\"node\"><title>4</title>\r\n",
       "<polygon fill=\"none\" stroke=\"black\" points=\"370.5,-157 252.5,-157 252.5,-89 370.5,-89 370.5,-157\"/>\r\n",
       "<text text-anchor=\"middle\" x=\"311.5\" y=\"-141.8\" font-family=\"Times New Roman,serif\" font-size=\"14.00\">X[0] &lt;= 1.5</text>\r\n",
       "<text text-anchor=\"middle\" x=\"311.5\" y=\"-126.8\" font-family=\"Times New Roman,serif\" font-size=\"14.00\">gini = 0.3099</text>\r\n",
       "<text text-anchor=\"middle\" x=\"311.5\" y=\"-111.8\" font-family=\"Times New Roman,serif\" font-size=\"14.00\">samples = 626</text>\r\n",
       "<text text-anchor=\"middle\" x=\"311.5\" y=\"-96.8\" font-family=\"Times New Roman,serif\" font-size=\"14.00\">value = [506, 120]</text>\r\n",
       "</g>\r\n",
       "<!-- 0&#45;&gt;4 -->\r\n",
       "<g id=\"edge4\" class=\"edge\"><title>0&#45;&gt;4</title>\r\n",
       "<path fill=\"none\" stroke=\"black\" d=\"M266.253,-192.884C271.928,-184.243 278.119,-174.819 284.048,-165.793\"/>\r\n",
       "<polygon fill=\"black\" stroke=\"black\" points=\"287.062,-167.579 289.627,-157.299 281.211,-163.736 287.062,-167.579\"/>\r\n",
       "<text text-anchor=\"middle\" x=\"294.697\" y=\"-178.08\" font-family=\"Times New Roman,serif\" font-size=\"14.00\">False</text>\r\n",
       "</g>\r\n",
       "<!-- 2 -->\r\n",
       "<g id=\"node3\" class=\"node\"><title>2</title>\r\n",
       "<polygon fill=\"none\" stroke=\"black\" points=\"111,-53 0,-53 0,-0 111,-0 111,-53\"/>\r\n",
       "<text text-anchor=\"middle\" x=\"55.5\" y=\"-37.8\" font-family=\"Times New Roman,serif\" font-size=\"14.00\">gini = 0.1339</text>\r\n",
       "<text text-anchor=\"middle\" x=\"55.5\" y=\"-22.8\" font-family=\"Times New Roman,serif\" font-size=\"14.00\">samples = 194</text>\r\n",
       "<text text-anchor=\"middle\" x=\"55.5\" y=\"-7.8\" font-family=\"Times New Roman,serif\" font-size=\"14.00\">value = [14, 180]</text>\r\n",
       "</g>\r\n",
       "<!-- 1&#45;&gt;2 -->\r\n",
       "<g id=\"edge2\" class=\"edge\"><title>1&#45;&gt;2</title>\r\n",
       "<path fill=\"none\" stroke=\"black\" d=\"M135.481,-88.9485C122.978,-79.3431 109.353,-68.8747 96.949,-59.345\"/>\r\n",
       "<polygon fill=\"black\" stroke=\"black\" points=\"99.0608,-56.5537 88.9986,-53.2367 94.7961,-62.1046 99.0608,-56.5537\"/>\r\n",
       "</g>\r\n",
       "<!-- 3 -->\r\n",
       "<g id=\"node4\" class=\"node\"><title>3</title>\r\n",
       "<polygon fill=\"none\" stroke=\"black\" points=\"233.5,-53 129.5,-53 129.5,-0 233.5,-0 233.5,-53\"/>\r\n",
       "<text text-anchor=\"middle\" x=\"181.5\" y=\"-37.8\" font-family=\"Times New Roman,serif\" font-size=\"14.00\">gini = 0.5</text>\r\n",
       "<text text-anchor=\"middle\" x=\"181.5\" y=\"-22.8\" font-family=\"Times New Roman,serif\" font-size=\"14.00\">samples = 161</text>\r\n",
       "<text text-anchor=\"middle\" x=\"181.5\" y=\"-7.8\" font-family=\"Times New Roman,serif\" font-size=\"14.00\">value = [81, 80]</text>\r\n",
       "</g>\r\n",
       "<!-- 1&#45;&gt;3 -->\r\n",
       "<g id=\"edge3\" class=\"edge\"><title>1&#45;&gt;3</title>\r\n",
       "<path fill=\"none\" stroke=\"black\" d=\"M179.549,-88.9485C179.811,-80.7153 180.092,-71.848 180.358,-63.4814\"/>\r\n",
       "<polygon fill=\"black\" stroke=\"black\" points=\"183.864,-63.3428 180.683,-53.2367 176.867,-63.1206 183.864,-63.3428\"/>\r\n",
       "</g>\r\n",
       "<!-- 5 -->\r\n",
       "<g id=\"node6\" class=\"node\"><title>5</title>\r\n",
       "<polygon fill=\"none\" stroke=\"black\" points=\"360.5,-53 256.5,-53 256.5,-0 360.5,-0 360.5,-53\"/>\r\n",
       "<text text-anchor=\"middle\" x=\"308.5\" y=\"-37.8\" font-family=\"Times New Roman,serif\" font-size=\"14.00\">gini = 0.4428</text>\r\n",
       "<text text-anchor=\"middle\" x=\"308.5\" y=\"-22.8\" font-family=\"Times New Roman,serif\" font-size=\"14.00\">samples = 133</text>\r\n",
       "<text text-anchor=\"middle\" x=\"308.5\" y=\"-7.8\" font-family=\"Times New Roman,serif\" font-size=\"14.00\">value = [89, 44]</text>\r\n",
       "</g>\r\n",
       "<!-- 4&#45;&gt;5 -->\r\n",
       "<g id=\"edge5\" class=\"edge\"><title>4&#45;&gt;5</title>\r\n",
       "<path fill=\"none\" stroke=\"black\" d=\"M310.451,-88.9485C310.189,-80.7153 309.908,-71.848 309.642,-63.4814\"/>\r\n",
       "<polygon fill=\"black\" stroke=\"black\" points=\"313.133,-63.1206 309.317,-53.2367 306.136,-63.3428 313.133,-63.1206\"/>\r\n",
       "</g>\r\n",
       "<!-- 6 -->\r\n",
       "<g id=\"node7\" class=\"node\"><title>6</title>\r\n",
       "<polygon fill=\"none\" stroke=\"black\" points=\"490,-53 379,-53 379,-0 490,-0 490,-53\"/>\r\n",
       "<text text-anchor=\"middle\" x=\"434.5\" y=\"-37.8\" font-family=\"Times New Roman,serif\" font-size=\"14.00\">gini = 0.2608</text>\r\n",
       "<text text-anchor=\"middle\" x=\"434.5\" y=\"-22.8\" font-family=\"Times New Roman,serif\" font-size=\"14.00\">samples = 493</text>\r\n",
       "<text text-anchor=\"middle\" x=\"434.5\" y=\"-7.8\" font-family=\"Times New Roman,serif\" font-size=\"14.00\">value = [417, 76]</text>\r\n",
       "</g>\r\n",
       "<!-- 4&#45;&gt;6 -->\r\n",
       "<g id=\"edge6\" class=\"edge\"><title>4&#45;&gt;6</title>\r\n",
       "<path fill=\"none\" stroke=\"black\" d=\"M354.519,-88.9485C367.022,-79.3431 380.647,-68.8747 393.051,-59.345\"/>\r\n",
       "<polygon fill=\"black\" stroke=\"black\" points=\"395.204,-62.1046 401.001,-53.2367 390.939,-56.5537 395.204,-62.1046\"/>\r\n",
       "</g>\r\n",
       "</g>\r\n",
       "</svg>\r\n"
      ],
      "text/plain": [
       "<graphviz.files.Source at 0x150e9d52cf8>"
      ]
     },
     "execution_count": 50,
     "metadata": {},
     "output_type": "execute_result"
    }
   ],
   "source": [
    "clf = DecisionTreeClassifier(max_depth=2)\n",
    "clf.fit(train_data, train_labels)\n",
    "DecisionTreeClassifier()\n",
    "\n",
    "print(\"Accuracy\", clf.score(test_data, test_labels))\n",
    "print(\"The depth of this tree is\", clf.tree_.max_depth)\n",
    "\n",
    "graph = graphviz.Source(tree.export_graphviz(clf, out_file=None)) \n",
    "graph.render('graphs/dt_gini_limit')\n",
    "graph"
   ]
  },
  {
   "cell_type": "code",
   "execution_count": 51,
   "metadata": {},
   "outputs": [
    {
     "name": "stdout",
     "output_type": "stream",
     "text": [
      "Accuracy 0.786585365854\n",
      "The depth of this tree is 2\n"
     ]
    },
    {
     "data": {
      "image/svg+xml": [
       "<?xml version=\"1.0\" encoding=\"UTF-8\" standalone=\"no\"?>\r\n",
       "<!DOCTYPE svg PUBLIC \"-//W3C//DTD SVG 1.1//EN\"\r\n",
       " \"http://www.w3.org/Graphics/SVG/1.1/DTD/svg11.dtd\">\r\n",
       "<!-- Generated by graphviz version 2.38.0 (20140413.2041)\r\n",
       " -->\r\n",
       "<!-- Title: Tree Pages: 1 -->\r\n",
       "<svg width=\"497pt\" height=\"269pt\"\r\n",
       " viewBox=\"0.00 0.00 496.50 269.00\" xmlns=\"http://www.w3.org/2000/svg\" xmlns:xlink=\"http://www.w3.org/1999/xlink\">\r\n",
       "<g id=\"graph0\" class=\"graph\" transform=\"scale(1 1) rotate(0) translate(4 265)\">\r\n",
       "<title>Tree</title>\r\n",
       "<polygon fill=\"white\" stroke=\"none\" points=\"-4,4 -4,-265 492.5,-265 492.5,4 -4,4\"/>\r\n",
       "<!-- 0 -->\r\n",
       "<g id=\"node1\" class=\"node\"><title>0</title>\r\n",
       "<polygon fill=\"none\" stroke=\"black\" points=\"304.5,-261 186.5,-261 186.5,-193 304.5,-193 304.5,-261\"/>\r\n",
       "<text text-anchor=\"middle\" x=\"245.5\" y=\"-245.8\" font-family=\"Times New Roman,serif\" font-size=\"14.00\">X[4] &lt;= 0.5</text>\r\n",
       "<text text-anchor=\"middle\" x=\"245.5\" y=\"-230.8\" font-family=\"Times New Roman,serif\" font-size=\"14.00\">gini = 0.4746</text>\r\n",
       "<text text-anchor=\"middle\" x=\"245.5\" y=\"-215.8\" font-family=\"Times New Roman,serif\" font-size=\"14.00\">samples = 981</text>\r\n",
       "<text text-anchor=\"middle\" x=\"245.5\" y=\"-200.8\" font-family=\"Times New Roman,serif\" font-size=\"14.00\">value = [601, 380]</text>\r\n",
       "</g>\r\n",
       "<!-- 1 -->\r\n",
       "<g id=\"node2\" class=\"node\"><title>1</title>\r\n",
       "<polygon fill=\"none\" stroke=\"black\" points=\"235,-157 124,-157 124,-89 235,-89 235,-157\"/>\r\n",
       "<text text-anchor=\"middle\" x=\"179.5\" y=\"-141.8\" font-family=\"Times New Roman,serif\" font-size=\"14.00\">X[2] &lt;= 0.5</text>\r\n",
       "<text text-anchor=\"middle\" x=\"179.5\" y=\"-126.8\" font-family=\"Times New Roman,serif\" font-size=\"14.00\">gini = 0.392</text>\r\n",
       "<text text-anchor=\"middle\" x=\"179.5\" y=\"-111.8\" font-family=\"Times New Roman,serif\" font-size=\"14.00\">samples = 355</text>\r\n",
       "<text text-anchor=\"middle\" x=\"179.5\" y=\"-96.8\" font-family=\"Times New Roman,serif\" font-size=\"14.00\">value = [95, 260]</text>\r\n",
       "</g>\r\n",
       "<!-- 0&#45;&gt;1 -->\r\n",
       "<g id=\"edge1\" class=\"edge\"><title>0&#45;&gt;1</title>\r\n",
       "<path fill=\"none\" stroke=\"black\" d=\"M224.072,-192.884C218.481,-184.243 212.383,-174.819 206.542,-165.793\"/>\r\n",
       "<polygon fill=\"black\" stroke=\"black\" points=\"209.418,-163.794 201.047,-157.299 203.541,-167.596 209.418,-163.794\"/>\r\n",
       "<text text-anchor=\"middle\" x=\"195.808\" y=\"-178.044\" font-family=\"Times New Roman,serif\" font-size=\"14.00\">True</text>\r\n",
       "</g>\r\n",
       "<!-- 4 -->\r\n",
       "<g id=\"node5\" class=\"node\"><title>4</title>\r\n",
       "<polygon fill=\"none\" stroke=\"black\" points=\"371.5,-157 253.5,-157 253.5,-89 371.5,-89 371.5,-157\"/>\r\n",
       "<text text-anchor=\"middle\" x=\"312.5\" y=\"-141.8\" font-family=\"Times New Roman,serif\" font-size=\"14.00\">X[0] &lt;= 0.5</text>\r\n",
       "<text text-anchor=\"middle\" x=\"312.5\" y=\"-126.8\" font-family=\"Times New Roman,serif\" font-size=\"14.00\">gini = 0.3099</text>\r\n",
       "<text text-anchor=\"middle\" x=\"312.5\" y=\"-111.8\" font-family=\"Times New Roman,serif\" font-size=\"14.00\">samples = 626</text>\r\n",
       "<text text-anchor=\"middle\" x=\"312.5\" y=\"-96.8\" font-family=\"Times New Roman,serif\" font-size=\"14.00\">value = [506, 120]</text>\r\n",
       "</g>\r\n",
       "<!-- 0&#45;&gt;4 -->\r\n",
       "<g id=\"edge4\" class=\"edge\"><title>0&#45;&gt;4</title>\r\n",
       "<path fill=\"none\" stroke=\"black\" d=\"M267.253,-192.884C272.928,-184.243 279.119,-174.819 285.048,-165.793\"/>\r\n",
       "<polygon fill=\"black\" stroke=\"black\" points=\"288.062,-167.579 290.627,-157.299 282.211,-163.736 288.062,-167.579\"/>\r\n",
       "<text text-anchor=\"middle\" x=\"295.697\" y=\"-178.08\" font-family=\"Times New Roman,serif\" font-size=\"14.00\">False</text>\r\n",
       "</g>\r\n",
       "<!-- 2 -->\r\n",
       "<g id=\"node3\" class=\"node\"><title>2</title>\r\n",
       "<polygon fill=\"none\" stroke=\"black\" points=\"111,-53 0,-53 0,-0 111,-0 111,-53\"/>\r\n",
       "<text text-anchor=\"middle\" x=\"55.5\" y=\"-37.8\" font-family=\"Times New Roman,serif\" font-size=\"14.00\">gini = 0.1339</text>\r\n",
       "<text text-anchor=\"middle\" x=\"55.5\" y=\"-22.8\" font-family=\"Times New Roman,serif\" font-size=\"14.00\">samples = 194</text>\r\n",
       "<text text-anchor=\"middle\" x=\"55.5\" y=\"-7.8\" font-family=\"Times New Roman,serif\" font-size=\"14.00\">value = [14, 180]</text>\r\n",
       "</g>\r\n",
       "<!-- 1&#45;&gt;2 -->\r\n",
       "<g id=\"edge2\" class=\"edge\"><title>1&#45;&gt;2</title>\r\n",
       "<path fill=\"none\" stroke=\"black\" d=\"M136.131,-88.9485C123.527,-79.3431 109.791,-68.8747 97.286,-59.345\"/>\r\n",
       "<polygon fill=\"black\" stroke=\"black\" points=\"99.346,-56.5144 89.2709,-53.2367 95.103,-62.0819 99.346,-56.5144\"/>\r\n",
       "</g>\r\n",
       "<!-- 3 -->\r\n",
       "<g id=\"node4\" class=\"node\"><title>3</title>\r\n",
       "<polygon fill=\"none\" stroke=\"black\" points=\"233.5,-53 129.5,-53 129.5,-0 233.5,-0 233.5,-53\"/>\r\n",
       "<text text-anchor=\"middle\" x=\"181.5\" y=\"-37.8\" font-family=\"Times New Roman,serif\" font-size=\"14.00\">gini = 0.5</text>\r\n",
       "<text text-anchor=\"middle\" x=\"181.5\" y=\"-22.8\" font-family=\"Times New Roman,serif\" font-size=\"14.00\">samples = 161</text>\r\n",
       "<text text-anchor=\"middle\" x=\"181.5\" y=\"-7.8\" font-family=\"Times New Roman,serif\" font-size=\"14.00\">value = [81, 80]</text>\r\n",
       "</g>\r\n",
       "<!-- 1&#45;&gt;3 -->\r\n",
       "<g id=\"edge3\" class=\"edge\"><title>1&#45;&gt;3</title>\r\n",
       "<path fill=\"none\" stroke=\"black\" d=\"M180.2,-88.9485C180.374,-80.7153 180.561,-71.848 180.738,-63.4814\"/>\r\n",
       "<polygon fill=\"black\" stroke=\"black\" points=\"184.243,-63.3086 180.955,-53.2367 177.244,-63.1604 184.243,-63.3086\"/>\r\n",
       "</g>\r\n",
       "<!-- 5 -->\r\n",
       "<g id=\"node6\" class=\"node\"><title>5</title>\r\n",
       "<polygon fill=\"none\" stroke=\"black\" points=\"366,-53 255,-53 255,-0 366,-0 366,-53\"/>\r\n",
       "<text text-anchor=\"middle\" x=\"310.5\" y=\"-37.8\" font-family=\"Times New Roman,serif\" font-size=\"14.00\">gini = 0.2608</text>\r\n",
       "<text text-anchor=\"middle\" x=\"310.5\" y=\"-22.8\" font-family=\"Times New Roman,serif\" font-size=\"14.00\">samples = 493</text>\r\n",
       "<text text-anchor=\"middle\" x=\"310.5\" y=\"-7.8\" font-family=\"Times New Roman,serif\" font-size=\"14.00\">value = [417, 76]</text>\r\n",
       "</g>\r\n",
       "<!-- 4&#45;&gt;5 -->\r\n",
       "<g id=\"edge5\" class=\"edge\"><title>4&#45;&gt;5</title>\r\n",
       "<path fill=\"none\" stroke=\"black\" d=\"M311.8,-88.9485C311.626,-80.7153 311.439,-71.848 311.262,-63.4814\"/>\r\n",
       "<polygon fill=\"black\" stroke=\"black\" points=\"314.756,-63.1604 311.045,-53.2367 307.757,-63.3086 314.756,-63.1604\"/>\r\n",
       "</g>\r\n",
       "<!-- 6 -->\r\n",
       "<g id=\"node7\" class=\"node\"><title>6</title>\r\n",
       "<polygon fill=\"none\" stroke=\"black\" points=\"488.5,-53 384.5,-53 384.5,-0 488.5,-0 488.5,-53\"/>\r\n",
       "<text text-anchor=\"middle\" x=\"436.5\" y=\"-37.8\" font-family=\"Times New Roman,serif\" font-size=\"14.00\">gini = 0.4428</text>\r\n",
       "<text text-anchor=\"middle\" x=\"436.5\" y=\"-22.8\" font-family=\"Times New Roman,serif\" font-size=\"14.00\">samples = 133</text>\r\n",
       "<text text-anchor=\"middle\" x=\"436.5\" y=\"-7.8\" font-family=\"Times New Roman,serif\" font-size=\"14.00\">value = [89, 44]</text>\r\n",
       "</g>\r\n",
       "<!-- 4&#45;&gt;6 -->\r\n",
       "<g id=\"edge6\" class=\"edge\"><title>4&#45;&gt;6</title>\r\n",
       "<path fill=\"none\" stroke=\"black\" d=\"M355.869,-88.9485C368.473,-79.3431 382.209,-68.8747 394.714,-59.345\"/>\r\n",
       "<polygon fill=\"black\" stroke=\"black\" points=\"396.897,-62.0819 402.729,-53.2367 392.654,-56.5144 396.897,-62.0819\"/>\r\n",
       "</g>\r\n",
       "</g>\r\n",
       "</svg>\r\n"
      ],
      "text/plain": [
       "<graphviz.files.Source at 0x150e7decd30>"
      ]
     },
     "execution_count": 51,
     "metadata": {},
     "output_type": "execute_result"
    }
   ],
   "source": [
    "# clf.tree_.__getstate__()\n",
    "clf.fit(enc_train_data, enc_train_labels)\n",
    "DecisionTreeClassifier()\n",
    "\n",
    "print(\"Accuracy\", clf.score(enc_test_data, enc_test_labels))\n",
    "print(\"The depth of this tree is\", clf.tree_.max_depth)\n",
    "\n",
    "graph = graphviz.Source(tree.export_graphviz(clf, out_file=None)) \n",
    "graph.render('graphs/dt_gini_limit_enc')\n",
    "graph"
   ]
  },
  {
   "cell_type": "markdown",
   "metadata": {},
   "source": [
    "### Random Forest\n",
    "\n",
    "Here we'll be training a random forest. Try modifying the parameters and see how it affects the accuracy"
   ]
  },
  {
   "cell_type": "code",
   "execution_count": 52,
   "metadata": {},
   "outputs": [
    {
     "name": "stdout",
     "output_type": "stream",
     "text": [
      "[ 0.16405715  0.51632839  0.07169227  0.07324637  0.04818935  0.0360459\n",
      "  0.09044058]\n",
      "\n",
      "Prediction accuracy: 0.817073170732\n"
     ]
    }
   ],
   "source": [
    "from sklearn.ensemble import RandomForestClassifier\n",
    "\n",
    "clf = RandomForestClassifier(max_depth=6, random_state=0, n_estimators=35, criterion='gini')\n",
    "clf.fit(train_data, train_labels)\n",
    "print(clf.feature_importances_)\n",
    "print()\n",
    "print(\"Prediction accuracy:\", clf.score(test_data, test_labels))"
   ]
  },
  {
   "cell_type": "markdown",
   "metadata": {},
   "source": [
    "## Other algorithms we haven't covered in class\n",
    "\n",
    "- Logistic Regression\n",
    "- Naive Bayes\n",
    "- Adaboost\n",
    "- K Nearest Neighbors\n",
    "- Multiclass classifiers\n",
    "- SVM with Kernels"
   ]
  },
  {
   "cell_type": "markdown",
   "metadata": {},
   "source": [
    "### Logistic Regression\n",
    "\n",
    "Try you hands at logistic regression."
   ]
  },
  {
   "cell_type": "code",
   "execution_count": 56,
   "metadata": {},
   "outputs": [
    {
     "name": "stdout",
     "output_type": "stream",
     "text": [
      "Prediction Accuracy: 0.786585365854\n",
      "Prediction Accuracy: 0.798780487805\n"
     ]
    }
   ],
   "source": [
    "from sklearn.linear_model import LogisticRegression\n",
    "\n",
    "clf = LogisticRegression()\n",
    "\n",
    "#train and test on split A\n",
    "clf.fit(train_data, train_labels)\n",
    "print('Prediction Accuracy:', clf.score(test_data, test_labels))\n",
    "\n",
    "#train and test on split B\n",
    "clf.fit(enc_train_data, enc_train_labels)\n",
    "print('Prediction Accuracy:', clf.score(enc_test_data, enc_test_labels))"
   ]
  },
  {
   "cell_type": "markdown",
   "metadata": {},
   "source": [
    "### Adaboost Classifier"
   ]
  },
  {
   "cell_type": "code",
   "execution_count": 62,
   "metadata": {},
   "outputs": [
    {
     "name": "stdout",
     "output_type": "stream",
     "text": [
      "Prediction Accuracy: 0.77743902439\n",
      "Prediction Accuracy: 0.77743902439\n"
     ]
    }
   ],
   "source": [
    "from sklearn.ensemble import AdaBoostClassifier\n",
    "\n",
    "clf = AdaBoostClassifier(n_estimators=75)\n",
    "\n",
    "#train and test on split A\n",
    "clf.fit(train_data, train_labels)\n",
    "print('Prediction Accuracy:', clf.score(test_data, test_labels))\n",
    "\n",
    "#train and test on split B\n",
    "clf.fit(enc_train_data, enc_train_labels)\n",
    "print('Prediction Accuracy:', clf.score(enc_test_data, enc_test_labels))"
   ]
  },
  {
   "cell_type": "markdown",
   "metadata": {},
   "source": [
    "### K Nearest classification"
   ]
  },
  {
   "cell_type": "code",
   "execution_count": 67,
   "metadata": {},
   "outputs": [
    {
     "name": "stdout",
     "output_type": "stream",
     "text": [
      "Prediction Accuracy: 0.786585365854\n",
      "Prediction Accuracy: 0.765243902439\n"
     ]
    }
   ],
   "source": [
    "from sklearn.neighbors import KNeighborsClassifier\n",
    "\n",
    "\n",
    "clf = KNeighborsClassifier(n_neighbors=10)\n",
    "\n",
    "#train and test on split A\n",
    "clf.fit(train_data, train_labels)\n",
    "print('Prediction Accuracy:', clf.score(test_data, test_labels))\n",
    "\n",
    "#train and test on split B\n",
    "clf.fit(enc_train_data, enc_train_labels)\n",
    "print('Prediction Accuracy:', clf.score(enc_test_data, enc_test_labels))"
   ]
  },
  {
   "cell_type": "markdown",
   "metadata": {},
   "source": [
    "### Multi-class classification\n",
    "\n",
    "We come back to iris dataset and use some techniques of multi-class classification."
   ]
  },
  {
   "cell_type": "code",
   "execution_count": 78,
   "metadata": {
    "collapsed": true
   },
   "outputs": [],
   "source": [
    "iris_train_data, iris_test_data, iris_train_labels, iris_test_labels = train_test_split(iris.data, iris.target, random_state=0)"
   ]
  },
  {
   "cell_type": "code",
   "execution_count": 83,
   "metadata": {},
   "outputs": [
    {
     "name": "stdout",
     "output_type": "stream",
     "text": [
      "[[ 0.21778851  0.39842839 -0.83300604 -0.41992389]\n",
      " [ 0.02740751 -0.8073061   0.39147845 -0.90817539]\n",
      " [-1.0857822  -0.78188083  1.61119245  1.5016092 ]]\n",
      "[ 0.10834681  1.50925848 -1.25388388]\n",
      "\n",
      "Prediction accuracy: 0.921052631579\n",
      "\n"
     ]
    }
   ],
   "source": [
    "#one-vs-all\n",
    "clf = LinearSVC(random_state=4000, multi_class='ovr')\n",
    "\n",
    "clf.fit(iris_train_data, iris_train_labels)\n",
    "\n",
    "print(\"Prediction accuracy:\", clf.score(iris_test_data, iris_test_labels))"
   ]
  },
  {
   "cell_type": "code",
   "execution_count": 85,
   "metadata": {},
   "outputs": [
    {
     "name": "stdout",
     "output_type": "stream",
     "text": [
      "Prediction accuracy: 0.973684210526\n"
     ]
    }
   ],
   "source": [
    "#one-vs-one\n",
    "from sklearn.svm import SVC\n",
    "\n",
    "clf = SVC(random_state=4000)\n",
    "\n",
    "clf.fit(iris_train_data, iris_train_labels)\n",
    "\n",
    "print(\"Prediction accuracy:\", clf.score(iris_test_data, iris_test_labels))"
   ]
  },
  {
   "cell_type": "code",
   "execution_count": 84,
   "metadata": {},
   "outputs": [
    {
     "name": "stdout",
     "output_type": "stream",
     "text": [
      "[[ 0.6658878   0.66124633 -1.34269411 -0.77806764]\n",
      " [ 0.25580283  0.20927604 -0.2497384  -0.69496671]\n",
      " [-0.92169063 -0.87052237  1.59243251  1.47303435]]\n",
      "[ 0.27130358  0.87549591 -1.14679949]\n",
      "\n",
      "Prediction accuracy: 0.973684210526\n",
      "\n"
     ]
    }
   ],
   "source": [
    "#multi-class\n",
    "clf = LinearSVC(random_state=4000, multi_class='crammer_singer')\n",
    "\n",
    "clf.fit(iris_train_data, iris_train_labels)\n",
    "\n",
    "print(\"Prediction accuracy:\", clf.score(iris_test_data, iris_test_labels))"
   ]
  },
  {
   "cell_type": "code",
   "execution_count": 87,
   "metadata": {},
   "outputs": [
    {
     "name": "stdout",
     "output_type": "stream",
     "text": [
      "Accuracy 0.973684210526\n",
      "The depth of this tree is 4\n"
     ]
    },
    {
     "data": {
      "image/svg+xml": [
       "<?xml version=\"1.0\" encoding=\"UTF-8\" standalone=\"no\"?>\r\n",
       "<!DOCTYPE svg PUBLIC \"-//W3C//DTD SVG 1.1//EN\"\r\n",
       " \"http://www.w3.org/Graphics/SVG/1.1/DTD/svg11.dtd\">\r\n",
       "<!-- Generated by graphviz version 2.38.0 (20140413.2041)\r\n",
       " -->\r\n",
       "<!-- Title: Tree Pages: 1 -->\r\n",
       "<svg width=\"499pt\" height=\"477pt\"\r\n",
       " viewBox=\"0.00 0.00 499.00 477.00\" xmlns=\"http://www.w3.org/2000/svg\" xmlns:xlink=\"http://www.w3.org/1999/xlink\">\r\n",
       "<g id=\"graph0\" class=\"graph\" transform=\"scale(1 1) rotate(0) translate(4 473)\">\r\n",
       "<title>Tree</title>\r\n",
       "<polygon fill=\"white\" stroke=\"none\" points=\"-4,4 -4,-473 495,-473 495,4 -4,4\"/>\r\n",
       "<!-- 0 -->\r\n",
       "<g id=\"node1\" class=\"node\"><title>0</title>\r\n",
       "<polygon fill=\"none\" stroke=\"black\" points=\"240.5,-469 115.5,-469 115.5,-401 240.5,-401 240.5,-469\"/>\r\n",
       "<text text-anchor=\"middle\" x=\"178\" y=\"-453.8\" font-family=\"Times New Roman,serif\" font-size=\"14.00\">X[2] &lt;= 2.35</text>\r\n",
       "<text text-anchor=\"middle\" x=\"178\" y=\"-438.8\" font-family=\"Times New Roman,serif\" font-size=\"14.00\">gini = 0.6647</text>\r\n",
       "<text text-anchor=\"middle\" x=\"178\" y=\"-423.8\" font-family=\"Times New Roman,serif\" font-size=\"14.00\">samples = 112</text>\r\n",
       "<text text-anchor=\"middle\" x=\"178\" y=\"-408.8\" font-family=\"Times New Roman,serif\" font-size=\"14.00\">value = [37, 34, 41]</text>\r\n",
       "</g>\r\n",
       "<!-- 1 -->\r\n",
       "<g id=\"node2\" class=\"node\"><title>1</title>\r\n",
       "<polygon fill=\"none\" stroke=\"black\" points=\"167,-357.5 55,-357.5 55,-304.5 167,-304.5 167,-357.5\"/>\r\n",
       "<text text-anchor=\"middle\" x=\"111\" y=\"-342.3\" font-family=\"Times New Roman,serif\" font-size=\"14.00\">gini = 0.0</text>\r\n",
       "<text text-anchor=\"middle\" x=\"111\" y=\"-327.3\" font-family=\"Times New Roman,serif\" font-size=\"14.00\">samples = 37</text>\r\n",
       "<text text-anchor=\"middle\" x=\"111\" y=\"-312.3\" font-family=\"Times New Roman,serif\" font-size=\"14.00\">value = [37, 0, 0]</text>\r\n",
       "</g>\r\n",
       "<!-- 0&#45;&gt;1 -->\r\n",
       "<g id=\"edge1\" class=\"edge\"><title>0&#45;&gt;1</title>\r\n",
       "<path fill=\"none\" stroke=\"black\" d=\"M156.247,-400.884C148.951,-389.776 140.803,-377.372 133.454,-366.184\"/>\r\n",
       "<polygon fill=\"black\" stroke=\"black\" points=\"136.179,-363.957 127.763,-357.52 130.328,-367.8 136.179,-363.957\"/>\r\n",
       "<text text-anchor=\"middle\" x=\"122.693\" y=\"-378.3\" font-family=\"Times New Roman,serif\" font-size=\"14.00\">True</text>\r\n",
       "</g>\r\n",
       "<!-- 2 -->\r\n",
       "<g id=\"node3\" class=\"node\"><title>2</title>\r\n",
       "<polygon fill=\"none\" stroke=\"black\" points=\"304.5,-365 185.5,-365 185.5,-297 304.5,-297 304.5,-365\"/>\r\n",
       "<text text-anchor=\"middle\" x=\"245\" y=\"-349.8\" font-family=\"Times New Roman,serif\" font-size=\"14.00\">X[2] &lt;= 4.95</text>\r\n",
       "<text text-anchor=\"middle\" x=\"245\" y=\"-334.8\" font-family=\"Times New Roman,serif\" font-size=\"14.00\">gini = 0.4956</text>\r\n",
       "<text text-anchor=\"middle\" x=\"245\" y=\"-319.8\" font-family=\"Times New Roman,serif\" font-size=\"14.00\">samples = 75</text>\r\n",
       "<text text-anchor=\"middle\" x=\"245\" y=\"-304.8\" font-family=\"Times New Roman,serif\" font-size=\"14.00\">value = [0, 34, 41]</text>\r\n",
       "</g>\r\n",
       "<!-- 0&#45;&gt;2 -->\r\n",
       "<g id=\"edge2\" class=\"edge\"><title>0&#45;&gt;2</title>\r\n",
       "<path fill=\"none\" stroke=\"black\" d=\"M199.753,-400.884C205.428,-392.243 211.619,-382.819 217.548,-373.793\"/>\r\n",
       "<polygon fill=\"black\" stroke=\"black\" points=\"220.562,-375.579 223.127,-365.299 214.711,-371.736 220.562,-375.579\"/>\r\n",
       "<text text-anchor=\"middle\" x=\"228.197\" y=\"-386.08\" font-family=\"Times New Roman,serif\" font-size=\"14.00\">False</text>\r\n",
       "</g>\r\n",
       "<!-- 3 -->\r\n",
       "<g id=\"node4\" class=\"node\"><title>3</title>\r\n",
       "<polygon fill=\"none\" stroke=\"black\" points=\"236,-261 124,-261 124,-193 236,-193 236,-261\"/>\r\n",
       "<text text-anchor=\"middle\" x=\"180\" y=\"-245.8\" font-family=\"Times New Roman,serif\" font-size=\"14.00\">X[3] &lt;= 1.65</text>\r\n",
       "<text text-anchor=\"middle\" x=\"180\" y=\"-230.8\" font-family=\"Times New Roman,serif\" font-size=\"14.00\">gini = 0.1528</text>\r\n",
       "<text text-anchor=\"middle\" x=\"180\" y=\"-215.8\" font-family=\"Times New Roman,serif\" font-size=\"14.00\">samples = 36</text>\r\n",
       "<text text-anchor=\"middle\" x=\"180\" y=\"-200.8\" font-family=\"Times New Roman,serif\" font-size=\"14.00\">value = [0, 33, 3]</text>\r\n",
       "</g>\r\n",
       "<!-- 2&#45;&gt;3 -->\r\n",
       "<g id=\"edge3\" class=\"edge\"><title>2&#45;&gt;3</title>\r\n",
       "<path fill=\"none\" stroke=\"black\" d=\"M223.896,-296.884C218.39,-288.243 212.385,-278.819 206.633,-269.793\"/>\r\n",
       "<polygon fill=\"black\" stroke=\"black\" points=\"209.546,-267.852 201.22,-261.299 203.643,-271.614 209.546,-267.852\"/>\r\n",
       "</g>\r\n",
       "<!-- 8 -->\r\n",
       "<g id=\"node9\" class=\"node\"><title>8</title>\r\n",
       "<polygon fill=\"none\" stroke=\"black\" points=\"366,-261 254,-261 254,-193 366,-193 366,-261\"/>\r\n",
       "<text text-anchor=\"middle\" x=\"310\" y=\"-245.8\" font-family=\"Times New Roman,serif\" font-size=\"14.00\">X[2] &lt;= 5.05</text>\r\n",
       "<text text-anchor=\"middle\" x=\"310\" y=\"-230.8\" font-family=\"Times New Roman,serif\" font-size=\"14.00\">gini = 0.05</text>\r\n",
       "<text text-anchor=\"middle\" x=\"310\" y=\"-215.8\" font-family=\"Times New Roman,serif\" font-size=\"14.00\">samples = 39</text>\r\n",
       "<text text-anchor=\"middle\" x=\"310\" y=\"-200.8\" font-family=\"Times New Roman,serif\" font-size=\"14.00\">value = [0, 1, 38]</text>\r\n",
       "</g>\r\n",
       "<!-- 2&#45;&gt;8 -->\r\n",
       "<g id=\"edge8\" class=\"edge\"><title>2&#45;&gt;8</title>\r\n",
       "<path fill=\"none\" stroke=\"black\" d=\"M266.104,-296.884C271.61,-288.243 277.615,-278.819 283.367,-269.793\"/>\r\n",
       "<polygon fill=\"black\" stroke=\"black\" points=\"286.357,-271.614 288.78,-261.299 280.454,-267.852 286.357,-271.614\"/>\r\n",
       "</g>\r\n",
       "<!-- 4 -->\r\n",
       "<g id=\"node5\" class=\"node\"><title>4</title>\r\n",
       "<polygon fill=\"none\" stroke=\"black\" points=\"112,-149.5 7.10543e-015,-149.5 7.10543e-015,-96.5 112,-96.5 112,-149.5\"/>\r\n",
       "<text text-anchor=\"middle\" x=\"56\" y=\"-134.3\" font-family=\"Times New Roman,serif\" font-size=\"14.00\">gini = 0.0</text>\r\n",
       "<text text-anchor=\"middle\" x=\"56\" y=\"-119.3\" font-family=\"Times New Roman,serif\" font-size=\"14.00\">samples = 32</text>\r\n",
       "<text text-anchor=\"middle\" x=\"56\" y=\"-104.3\" font-family=\"Times New Roman,serif\" font-size=\"14.00\">value = [0, 32, 0]</text>\r\n",
       "</g>\r\n",
       "<!-- 3&#45;&gt;4 -->\r\n",
       "<g id=\"edge4\" class=\"edge\"><title>3&#45;&gt;4</title>\r\n",
       "<path fill=\"none\" stroke=\"black\" d=\"M139.741,-192.884C125.301,-181.006 109.06,-167.646 94.7512,-155.876\"/>\r\n",
       "<polygon fill=\"black\" stroke=\"black\" points=\"96.9706,-153.17 87.0242,-149.52 92.5237,-158.576 96.9706,-153.17\"/>\r\n",
       "</g>\r\n",
       "<!-- 5 -->\r\n",
       "<g id=\"node6\" class=\"node\"><title>5</title>\r\n",
       "<polygon fill=\"none\" stroke=\"black\" points=\"235.5,-157 130.5,-157 130.5,-89 235.5,-89 235.5,-157\"/>\r\n",
       "<text text-anchor=\"middle\" x=\"183\" y=\"-141.8\" font-family=\"Times New Roman,serif\" font-size=\"14.00\">X[1] &lt;= 3.1</text>\r\n",
       "<text text-anchor=\"middle\" x=\"183\" y=\"-126.8\" font-family=\"Times New Roman,serif\" font-size=\"14.00\">gini = 0.375</text>\r\n",
       "<text text-anchor=\"middle\" x=\"183\" y=\"-111.8\" font-family=\"Times New Roman,serif\" font-size=\"14.00\">samples = 4</text>\r\n",
       "<text text-anchor=\"middle\" x=\"183\" y=\"-96.8\" font-family=\"Times New Roman,serif\" font-size=\"14.00\">value = [0, 1, 3]</text>\r\n",
       "</g>\r\n",
       "<!-- 3&#45;&gt;5 -->\r\n",
       "<g id=\"edge5\" class=\"edge\"><title>3&#45;&gt;5</title>\r\n",
       "<path fill=\"none\" stroke=\"black\" d=\"M180.974,-192.884C181.212,-184.778 181.471,-175.982 181.721,-167.472\"/>\r\n",
       "<polygon fill=\"black\" stroke=\"black\" points=\"185.225,-167.398 182.021,-157.299 178.228,-167.192 185.225,-167.398\"/>\r\n",
       "</g>\r\n",
       "<!-- 6 -->\r\n",
       "<g id=\"node7\" class=\"node\"><title>6</title>\r\n",
       "<polygon fill=\"none\" stroke=\"black\" points=\"112.5,-53 7.5,-53 7.5,-0 112.5,-0 112.5,-53\"/>\r\n",
       "<text text-anchor=\"middle\" x=\"60\" y=\"-37.8\" font-family=\"Times New Roman,serif\" font-size=\"14.00\">gini = 0.0</text>\r\n",
       "<text text-anchor=\"middle\" x=\"60\" y=\"-22.8\" font-family=\"Times New Roman,serif\" font-size=\"14.00\">samples = 3</text>\r\n",
       "<text text-anchor=\"middle\" x=\"60\" y=\"-7.8\" font-family=\"Times New Roman,serif\" font-size=\"14.00\">value = [0, 0, 3]</text>\r\n",
       "</g>\r\n",
       "<!-- 5&#45;&gt;6 -->\r\n",
       "<g id=\"edge6\" class=\"edge\"><title>5&#45;&gt;6</title>\r\n",
       "<path fill=\"none\" stroke=\"black\" d=\"M139.981,-88.9485C127.478,-79.3431 113.853,-68.8747 101.449,-59.345\"/>\r\n",
       "<polygon fill=\"black\" stroke=\"black\" points=\"103.561,-56.5537 93.4986,-53.2367 99.2961,-62.1046 103.561,-56.5537\"/>\r\n",
       "</g>\r\n",
       "<!-- 7 -->\r\n",
       "<g id=\"node8\" class=\"node\"><title>7</title>\r\n",
       "<polygon fill=\"none\" stroke=\"black\" points=\"235.5,-53 130.5,-53 130.5,-0 235.5,-0 235.5,-53\"/>\r\n",
       "<text text-anchor=\"middle\" x=\"183\" y=\"-37.8\" font-family=\"Times New Roman,serif\" font-size=\"14.00\">gini = 0.0</text>\r\n",
       "<text text-anchor=\"middle\" x=\"183\" y=\"-22.8\" font-family=\"Times New Roman,serif\" font-size=\"14.00\">samples = 1</text>\r\n",
       "<text text-anchor=\"middle\" x=\"183\" y=\"-7.8\" font-family=\"Times New Roman,serif\" font-size=\"14.00\">value = [0, 1, 0]</text>\r\n",
       "</g>\r\n",
       "<!-- 5&#45;&gt;7 -->\r\n",
       "<g id=\"edge7\" class=\"edge\"><title>5&#45;&gt;7</title>\r\n",
       "<path fill=\"none\" stroke=\"black\" d=\"M183,-88.9485C183,-80.7153 183,-71.848 183,-63.4814\"/>\r\n",
       "<polygon fill=\"black\" stroke=\"black\" points=\"186.5,-63.2367 183,-53.2367 179.5,-63.2367 186.5,-63.2367\"/>\r\n",
       "</g>\r\n",
       "<!-- 9 -->\r\n",
       "<g id=\"node10\" class=\"node\"><title>9</title>\r\n",
       "<polygon fill=\"none\" stroke=\"black\" points=\"360.5,-157 255.5,-157 255.5,-89 360.5,-89 360.5,-157\"/>\r\n",
       "<text text-anchor=\"middle\" x=\"308\" y=\"-141.8\" font-family=\"Times New Roman,serif\" font-size=\"14.00\">X[0] &lt;= 6.5</text>\r\n",
       "<text text-anchor=\"middle\" x=\"308\" y=\"-126.8\" font-family=\"Times New Roman,serif\" font-size=\"14.00\">gini = 0.375</text>\r\n",
       "<text text-anchor=\"middle\" x=\"308\" y=\"-111.8\" font-family=\"Times New Roman,serif\" font-size=\"14.00\">samples = 4</text>\r\n",
       "<text text-anchor=\"middle\" x=\"308\" y=\"-96.8\" font-family=\"Times New Roman,serif\" font-size=\"14.00\">value = [0, 1, 3]</text>\r\n",
       "</g>\r\n",
       "<!-- 8&#45;&gt;9 -->\r\n",
       "<g id=\"edge9\" class=\"edge\"><title>8&#45;&gt;9</title>\r\n",
       "<path fill=\"none\" stroke=\"black\" d=\"M309.351,-192.884C309.192,-184.778 309.019,-175.982 308.852,-167.472\"/>\r\n",
       "<polygon fill=\"black\" stroke=\"black\" points=\"312.348,-167.229 308.653,-157.299 305.35,-167.366 312.348,-167.229\"/>\r\n",
       "</g>\r\n",
       "<!-- 12 -->\r\n",
       "<g id=\"node13\" class=\"node\"><title>12</title>\r\n",
       "<polygon fill=\"none\" stroke=\"black\" points=\"491,-149.5 379,-149.5 379,-96.5 491,-96.5 491,-149.5\"/>\r\n",
       "<text text-anchor=\"middle\" x=\"435\" y=\"-134.3\" font-family=\"Times New Roman,serif\" font-size=\"14.00\">gini = 0.0</text>\r\n",
       "<text text-anchor=\"middle\" x=\"435\" y=\"-119.3\" font-family=\"Times New Roman,serif\" font-size=\"14.00\">samples = 35</text>\r\n",
       "<text text-anchor=\"middle\" x=\"435\" y=\"-104.3\" font-family=\"Times New Roman,serif\" font-size=\"14.00\">value = [0, 0, 35]</text>\r\n",
       "</g>\r\n",
       "<!-- 8&#45;&gt;12 -->\r\n",
       "<g id=\"edge12\" class=\"edge\"><title>8&#45;&gt;12</title>\r\n",
       "<path fill=\"none\" stroke=\"black\" d=\"M350.584,-192.884C365.14,-181.006 381.512,-167.646 395.936,-155.876\"/>\r\n",
       "<polygon fill=\"black\" stroke=\"black\" points=\"398.191,-158.554 403.726,-149.52 393.765,-153.13 398.191,-158.554\"/>\r\n",
       "</g>\r\n",
       "<!-- 10 -->\r\n",
       "<g id=\"node11\" class=\"node\"><title>10</title>\r\n",
       "<polygon fill=\"none\" stroke=\"black\" points=\"359.5,-53 254.5,-53 254.5,-0 359.5,-0 359.5,-53\"/>\r\n",
       "<text text-anchor=\"middle\" x=\"307\" y=\"-37.8\" font-family=\"Times New Roman,serif\" font-size=\"14.00\">gini = 0.0</text>\r\n",
       "<text text-anchor=\"middle\" x=\"307\" y=\"-22.8\" font-family=\"Times New Roman,serif\" font-size=\"14.00\">samples = 3</text>\r\n",
       "<text text-anchor=\"middle\" x=\"307\" y=\"-7.8\" font-family=\"Times New Roman,serif\" font-size=\"14.00\">value = [0, 0, 3]</text>\r\n",
       "</g>\r\n",
       "<!-- 9&#45;&gt;10 -->\r\n",
       "<g id=\"edge10\" class=\"edge\"><title>9&#45;&gt;10</title>\r\n",
       "<path fill=\"none\" stroke=\"black\" d=\"M307.65,-88.9485C307.563,-80.7153 307.469,-71.848 307.381,-63.4814\"/>\r\n",
       "<polygon fill=\"black\" stroke=\"black\" points=\"310.878,-63.1991 307.272,-53.2367 303.878,-63.2732 310.878,-63.1991\"/>\r\n",
       "</g>\r\n",
       "<!-- 11 -->\r\n",
       "<g id=\"node12\" class=\"node\"><title>11</title>\r\n",
       "<polygon fill=\"none\" stroke=\"black\" points=\"482.5,-53 377.5,-53 377.5,-0 482.5,-0 482.5,-53\"/>\r\n",
       "<text text-anchor=\"middle\" x=\"430\" y=\"-37.8\" font-family=\"Times New Roman,serif\" font-size=\"14.00\">gini = 0.0</text>\r\n",
       "<text text-anchor=\"middle\" x=\"430\" y=\"-22.8\" font-family=\"Times New Roman,serif\" font-size=\"14.00\">samples = 1</text>\r\n",
       "<text text-anchor=\"middle\" x=\"430\" y=\"-7.8\" font-family=\"Times New Roman,serif\" font-size=\"14.00\">value = [0, 1, 0]</text>\r\n",
       "</g>\r\n",
       "<!-- 9&#45;&gt;11 -->\r\n",
       "<g id=\"edge11\" class=\"edge\"><title>9&#45;&gt;11</title>\r\n",
       "<path fill=\"none\" stroke=\"black\" d=\"M350.67,-88.9485C362.952,-79.4346 376.328,-69.074 388.536,-59.6175\"/>\r\n",
       "<polygon fill=\"black\" stroke=\"black\" points=\"391.011,-62.1274 396.774,-53.2367 386.725,-56.5934 391.011,-62.1274\"/>\r\n",
       "</g>\r\n",
       "</g>\r\n",
       "</svg>\r\n"
      ],
      "text/plain": [
       "<graphviz.files.Source at 0x150e9eff240>"
      ]
     },
     "execution_count": 87,
     "metadata": {},
     "output_type": "execute_result"
    }
   ],
   "source": [
    "clf = DecisionTreeClassifier(criterion='gini')\n",
    "clf.fit(iris_train_data, iris_train_labels)\n",
    "DecisionTreeClassifier()\n",
    "\n",
    "print(\"Accuracy\", clf.score(iris_test_data, iris_test_labels))\n",
    "print(\"The depth of this tree is\", clf.tree_.max_depth)\n",
    "\n",
    "\n",
    "graph = graphviz.Source(tree.export_graphviz(clf, out_file=None)) \n",
    "graph"
   ]
  },
  {
   "cell_type": "markdown",
   "metadata": {},
   "source": [
    "### Links!\n",
    "- Scikit learn official page: http://scikit-learn.org/stable/index.html\n",
    "\n",
    "- Pandas official page: http://pandas.pydata.org/pandas-docs/stable/index.html\n",
    "\n",
    "- lots of scikit demos: https://github.com/amueller/scipy-2016-sklearn/tree/master/notebooks\n",
    "\n",
    "- svm documentation: http://scikit-learn.org/stable/modules/svm.html\n",
    "\n",
    "- decision tree documentation: http://scikit-learn.org/stable/modules/tree.html\n",
    "\n",
    "- perceptron documentation: http://scikit-learn.org/stable/modules/linear_model.html#perceptron\n",
    "\n",
    "- graphing trees: http://scikit-learn.org/stable/modules/generated/sklearn.tree.export_graphviz.html\n",
    "\n",
    "- cross-validation parameter search documentation: http://scikit-learn.org/stable/auto_examples/model_selection/plot_grid_search_digits.html#sphx-glr-auto-examples-model-selection-plot-grid-search-digits-py"
   ]
  },
  {
   "cell_type": "code",
   "execution_count": null,
   "metadata": {
    "collapsed": true
   },
   "outputs": [],
   "source": []
  }
 ],
 "metadata": {
  "kernelspec": {
   "display_name": "Python 3",
   "language": "python",
   "name": "python3"
  },
  "language_info": {
   "codemirror_mode": {
    "name": "ipython",
    "version": 3
   },
   "file_extension": ".py",
   "mimetype": "text/x-python",
   "name": "python",
   "nbconvert_exporter": "python",
   "pygments_lexer": "ipython3",
   "version": "3.5.2"
  }
 },
 "nbformat": 4,
 "nbformat_minor": 2
}
